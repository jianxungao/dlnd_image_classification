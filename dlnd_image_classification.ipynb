{
 "cells": [
  {
   "cell_type": "markdown",
   "metadata": {
    "collapsed": true
   },
   "source": [
    "# Image Classification\n",
    "In this project, you'll classify images from the [CIFAR-10 dataset](https://www.cs.toronto.edu/~kriz/cifar.html).  The dataset consists of airplanes, dogs, cats, and other objects. You'll preprocess the images, then train a convolutional neural network on all the samples. The images need to be normalized and the labels need to be one-hot encoded.  You'll get to apply what you learned and build a convolutional, max pooling, dropout, and fully connected layers.  At the end, you'll get to see your neural network's predictions on the sample images.\n",
    "## Get the Data\n",
    "Run the following cell to download the [CIFAR-10 dataset for python](https://www.cs.toronto.edu/~kriz/cifar-10-python.tar.gz)."
   ]
  },
  {
   "cell_type": "code",
   "execution_count": 1,
   "metadata": {
    "collapsed": false
   },
   "outputs": [
    {
     "name": "stdout",
     "output_type": "stream",
     "text": [
      "All files found!\n"
     ]
    }
   ],
   "source": [
    "\"\"\"\n",
    "DON'T MODIFY ANYTHING IN THIS CELL THAT IS BELOW THIS LINE\n",
    "\"\"\"\n",
    "from urllib.request import urlretrieve\n",
    "from os.path import isfile, isdir\n",
    "from tqdm import tqdm\n",
    "import problem_unittests as tests\n",
    "import tarfile\n",
    "\n",
    "cifar10_dataset_folder_path = 'cifar-10-batches-py'\n",
    "\n",
    "# Use Floyd's cifar-10 dataset if present\n",
    "floyd_cifar10_location = '/input/cifar-10/python.tar.gz'\n",
    "if isfile(floyd_cifar10_location):\n",
    "    tar_gz_path = floyd_cifar10_location\n",
    "else:\n",
    "    tar_gz_path = 'cifar-10-python.tar.gz'\n",
    "\n",
    "class DLProgress(tqdm):\n",
    "    last_block = 0\n",
    "\n",
    "    def hook(self, block_num=1, block_size=1, total_size=None):\n",
    "        self.total = total_size\n",
    "        self.update((block_num - self.last_block) * block_size)\n",
    "        self.last_block = block_num\n",
    "\n",
    "if not isfile(tar_gz_path):\n",
    "    with DLProgress(unit='B', unit_scale=True, miniters=1, desc='CIFAR-10 Dataset') as pbar:\n",
    "        urlretrieve(\n",
    "            'https://www.cs.toronto.edu/~kriz/cifar-10-python.tar.gz',\n",
    "            tar_gz_path,\n",
    "            pbar.hook)\n",
    "\n",
    "if not isdir(cifar10_dataset_folder_path):\n",
    "    with tarfile.open(tar_gz_path) as tar:\n",
    "        tar.extractall()\n",
    "        tar.close()\n",
    "\n",
    "\n",
    "tests.test_folder_path(cifar10_dataset_folder_path)"
   ]
  },
  {
   "cell_type": "markdown",
   "metadata": {},
   "source": [
    "## Explore the Data\n",
    "The dataset is broken into batches to prevent your machine from running out of memory.  The CIFAR-10 dataset consists of 5 batches, named `data_batch_1`, `data_batch_2`, etc.. Each batch contains the labels and images that are one of the following:\n",
    "* airplane\n",
    "* automobile\n",
    "* bird\n",
    "* cat\n",
    "* deer\n",
    "* dog\n",
    "* frog\n",
    "* horse\n",
    "* ship\n",
    "* truck\n",
    "\n",
    "Understanding a dataset is part of making predictions on the data.  Play around with the code cell below by changing the `batch_id` and `sample_id`. The `batch_id` is the id for a batch (1-5). The `sample_id` is the id for a image and label pair in the batch.\n",
    "\n",
    "Ask yourself \"What are all possible labels?\", \"What is the range of values for the image data?\", \"Are the labels in order or random?\".  Answers to questions like these will help you preprocess the data and end up with better predictions."
   ]
  },
  {
   "cell_type": "code",
   "execution_count": 2,
   "metadata": {
    "collapsed": false
   },
   "outputs": [
    {
     "name": "stdout",
     "output_type": "stream",
     "text": [
      "\n",
      "Stats of batch 1:\n",
      "Samples: 10000\n",
      "Label Counts: {0: 1005, 1: 974, 2: 1032, 3: 1016, 4: 999, 5: 937, 6: 1030, 7: 1001, 8: 1025, 9: 981}\n",
      "First 20 Labels: [6, 9, 9, 4, 1, 1, 2, 7, 8, 3, 4, 7, 7, 2, 9, 9, 9, 3, 2, 6]\n",
      "\n",
      "Example of Image 5:\n",
      "Image - Min Value: 0 Max Value: 252\n",
      "Image - Shape: (32, 32, 3)\n",
      "Label - Label Id: 1 Name: automobile\n"
     ]
    },
    {
     "data": {
      "image/png": "[encoded data removed]",
      "text/plain": [
       "<matplotlib.figure.Figure at 0x106badb38>"
      ]
     },
     "metadata": {
      "image/png": {
       "height": 250,
       "width": 253
      }
     },
     "output_type": "display_data"
    }
   ],
   "source": [
    "%matplotlib inline\n",
    "%config InlineBackend.figure_format = 'retina'\n",
    "\n",
    "import helper\n",
    "import numpy as np\n",
    "\n",
    "# Explore the dataset\n",
    "batch_id = 1\n",
    "sample_id = 5\n",
    "helper.display_stats(cifar10_dataset_folder_path, batch_id, sample_id)"
   ]
  },
  {
   "cell_type": "markdown",
   "metadata": {},
   "source": [
    "## Implement Preprocess Functions\n",
    "### Normalize\n",
    "In the cell below, implement the `normalize` function to take in image data, `x`, and return it as a normalized Numpy array. The values should be in the range of 0 to 1, inclusive.  The return object should be the same shape as `x`."
   ]
  },
  {
   "cell_type": "code",
   "execution_count": 3,
   "metadata": {
    "collapsed": false
   },
   "outputs": [
    {
     "name": "stdout",
     "output_type": "stream",
     "text": [
      "Tests Passed\n"
     ]
    }
   ],
   "source": [
    "def normalize(x):\n",
    "    \"\"\"\n",
    "    Normalize a list of sample image data in the range of 0 to 1\n",
    "    : x: List of image data.  The image shape is (32, 32, 3)\n",
    "    : return: Numpy array of normalize data\n",
    "    \"\"\"\n",
    "    # TODO: Implement Function\n",
    "    a = 0.\n",
    "    b = 1.\n",
    "    grayscale_min = 0\n",
    "    grayscale_max = 255\n",
    "    return a + ( ( (x - grayscale_min)*(b - a) )/( grayscale_max - grayscale_min ) )\n",
    "\n",
    "\n",
    "\"\"\"\n",
    "DON'T MODIFY ANYTHING IN THIS CELL THAT IS BELOW THIS LINE\n",
    "\"\"\"\n",
    "tests.test_normalize(normalize)"
   ]
  },
  {
   "cell_type": "markdown",
   "metadata": {},
   "source": [
    "### One-hot encode\n",
    "Just like the previous code cell, you'll be implementing a function for preprocessing.  This time, you'll implement the `one_hot_encode` function. The input, `x`, are a list of labels.  Implement the function to return the list of labels as One-Hot encoded Numpy array.  The possible values for labels are 0 to 9. The one-hot encoding function should return the same encoding for each value between each call to `one_hot_encode`.  Make sure to save the map of encodings outside the function.\n",
    "\n",
    "Hint: Don't reinvent the wheel."
   ]
  },
  {
   "cell_type": "code",
   "execution_count": 4,
   "metadata": {
    "collapsed": true
   },
   "outputs": [],
   "source": [
    "from sklearn.preprocessing import LabelBinarizer"
   ]
  },
  {
   "cell_type": "code",
   "execution_count": 5,
   "metadata": {
    "collapsed": false
   },
   "outputs": [
    {
     "name": "stdout",
     "output_type": "stream",
     "text": [
      "Tests Passed\n"
     ]
    }
   ],
   "source": [
    "def one_hot_encode(x):\n",
    "    \"\"\"\n",
    "    One hot encode a list of sample labels. Return a one-hot encoded vector for each label.\n",
    "    : x: List of sample Labels\n",
    "    : return: Numpy array of one-hot encoded labels\n",
    "    \"\"\"\n",
    "    # TODO: Implement Function\n",
    "    # Turn labels into numbers and apply One-Hot Encoding\n",
    "    lb = LabelBinarizer()\n",
    "    lb.fit(x)\n",
    "    lb.classes_ = [0, 1, 2, 3, 4, 5, 6, 7, 8, 9]\n",
    "    return lb.transform(x)\n",
    "     \n",
    "\n",
    "\n",
    "\"\"\"\n",
    "DON'T MODIFY ANYTHING IN THIS CELL THAT IS BELOW THIS LINE\n",
    "\"\"\"\n",
    "tests.test_one_hot_encode(one_hot_encode)"
   ]
  },
  {
   "cell_type": "code",
   "execution_count": 6,
   "metadata": {
    "collapsed": false
   },
   "outputs": [
    {
     "data": {
      "text/plain": [
       "array([[0, 1, 0, 0, 0, 0, 0, 0, 0, 0],\n",
       "       [0, 0, 0, 0, 0, 1, 0, 0, 0, 0],\n",
       "       [0, 0, 0, 1, 0, 0, 0, 0, 0, 0],\n",
       "       [0, 0, 1, 0, 0, 0, 0, 0, 0, 0],\n",
       "       [0, 1, 0, 0, 0, 0, 0, 0, 0, 0],\n",
       "       [0, 0, 0, 0, 1, 0, 0, 0, 0, 0],\n",
       "       [0, 0, 1, 0, 0, 0, 0, 0, 0, 0],\n",
       "       [0, 1, 0, 0, 0, 0, 0, 0, 0, 0],\n",
       "       [0, 0, 0, 1, 0, 0, 0, 0, 0, 0]])"
      ]
     },
     "execution_count": 6,
     "metadata": {},
     "output_type": "execute_result"
    }
   ],
   "source": [
    "labels = np.array([1,5,3,2,1,4,2,1,3])\n",
    "one_hot_encode(labels)"
   ]
  },
  {
   "cell_type": "code",
   "execution_count": 7,
   "metadata": {
    "collapsed": false
   },
   "outputs": [
    {
     "data": {
      "text/plain": [
       "array([7, 2, 8, 7])"
      ]
     },
     "execution_count": 7,
     "metadata": {},
     "output_type": "execute_result"
    }
   ],
   "source": [
    "test_numbers = np.random.choice(range(10), 4)\n",
    "test_numbers"
   ]
  },
  {
   "cell_type": "code",
   "execution_count": 8,
   "metadata": {
    "collapsed": false
   },
   "outputs": [
    {
     "data": {
      "text/plain": [
       "array([[0, 0, 0, 0, 0, 0, 0, 1, 0, 0],\n",
       "       [0, 0, 1, 0, 0, 0, 0, 0, 0, 0],\n",
       "       [0, 0, 0, 0, 0, 0, 0, 0, 1, 0],\n",
       "       [0, 0, 0, 0, 0, 0, 0, 1, 0, 0]])"
      ]
     },
     "execution_count": 8,
     "metadata": {},
     "output_type": "execute_result"
    }
   ],
   "source": [
    "one_hot_out = one_hot_encode(test_numbers)\n",
    "one_hot_out"
   ]
  },
  {
   "cell_type": "code",
   "execution_count": 9,
   "metadata": {
    "collapsed": false
   },
   "outputs": [
    {
     "data": {
      "text/plain": [
       "[(7, array([0, 0, 0, 0, 0, 0, 0, 1, 0, 0])),\n",
       " (2, array([0, 0, 1, 0, 0, 0, 0, 0, 0, 0])),\n",
       " (8, array([0, 0, 0, 0, 0, 0, 0, 0, 1, 0])),\n",
       " (7, array([0, 0, 0, 0, 0, 0, 0, 1, 0, 0]))]"
      ]
     },
     "execution_count": 9,
     "metadata": {},
     "output_type": "execute_result"
    }
   ],
   "source": [
    "test_pairs = list(zip(test_numbers, one_hot_out))\n",
    "test_pairs"
   ]
  },
  {
   "cell_type": "code",
   "execution_count": 10,
   "metadata": {
    "collapsed": false
   },
   "outputs": [
    {
     "data": {
      "text/plain": [
       "array([0, 2, 0, 0, 2])"
      ]
     },
     "execution_count": 10,
     "metadata": {},
     "output_type": "execute_result"
    }
   ],
   "source": [
    "test_indices = np.random.choice(len(test_numbers), 5)\n",
    "test_indices"
   ]
  },
  {
   "cell_type": "code",
   "execution_count": 11,
   "metadata": {
    "collapsed": false
   },
   "outputs": [
    {
     "data": {
      "text/plain": [
       "array([[0, 0, 0, 0, 0, 0, 0, 1, 0, 0],\n",
       "       [0, 0, 0, 0, 0, 0, 0, 0, 1, 0],\n",
       "       [0, 0, 0, 0, 0, 0, 0, 1, 0, 0],\n",
       "       [0, 0, 0, 0, 0, 0, 0, 1, 0, 0],\n",
       "       [0, 0, 0, 0, 0, 0, 0, 0, 1, 0]])"
      ]
     },
     "execution_count": 11,
     "metadata": {},
     "output_type": "execute_result"
    }
   ],
   "source": [
    "enc_labels = np.array([test_pairs[test_i][1] for test_i in test_indices])\n",
    "enc_labels"
   ]
  },
  {
   "cell_type": "code",
   "execution_count": 12,
   "metadata": {
    "collapsed": false
   },
   "outputs": [
    {
     "data": {
      "text/plain": [
       "array([[0, 1, 0, 0, 0, 0, 0, 0, 0, 0],\n",
       "       [0, 0, 0, 0, 0, 1, 0, 0, 0, 0],\n",
       "       [0, 0, 0, 1, 0, 0, 0, 0, 0, 0],\n",
       "       [0, 0, 1, 0, 0, 0, 0, 0, 0, 0],\n",
       "       [0, 1, 0, 0, 0, 0, 0, 0, 0, 0],\n",
       "       [0, 0, 0, 0, 1, 0, 0, 0, 0, 0],\n",
       "       [0, 0, 1, 0, 0, 0, 0, 0, 0, 0],\n",
       "       [0, 1, 0, 0, 0, 0, 0, 0, 0, 0],\n",
       "       [0, 0, 0, 1, 0, 0, 0, 0, 0, 0]])"
      ]
     },
     "execution_count": 12,
     "metadata": {},
     "output_type": "execute_result"
    }
   ],
   "source": [
    "new_enc_labels = one_hot_encode(labels)\n",
    "new_enc_labels"
   ]
  },
  {
   "cell_type": "markdown",
   "metadata": {},
   "source": [
    "### Randomize Data\n",
    "As you saw from exploring the data above, the order of the samples are randomized.  It doesn't hurt to randomize it again, but you don't need to for this dataset."
   ]
  },
  {
   "cell_type": "markdown",
   "metadata": {},
   "source": [
    "## Preprocess all the data and save it\n",
    "Running the code cell below will preprocess all the CIFAR-10 data and save it to file. The code below also uses 10% of the training data for validation."
   ]
  },
  {
   "cell_type": "code",
   "execution_count": 13,
   "metadata": {
    "collapsed": false
   },
   "outputs": [],
   "source": [
    "\"\"\"\n",
    "DON'T MODIFY ANYTHING IN THIS CELL\n",
    "\"\"\"\n",
    "# Preprocess Training, Validation, and Testing Data\n",
    "helper.preprocess_and_save_data(cifar10_dataset_folder_path, normalize, one_hot_encode)"
   ]
  },
  {
   "cell_type": "markdown",
   "metadata": {},
   "source": [
    "# Check Point\n",
    "This is your first checkpoint.  If you ever decide to come back to this notebook or have to restart the notebook, you can start from here.  The preprocessed data has been saved to disk."
   ]
  },
  {
   "cell_type": "code",
   "execution_count": 14,
   "metadata": {
    "collapsed": true
   },
   "outputs": [],
   "source": [
    "\"\"\"\n",
    "DON'T MODIFY ANYTHING IN THIS CELL\n",
    "\"\"\"\n",
    "import pickle\n",
    "import problem_unittests as tests\n",
    "import helper\n",
    "\n",
    "# Load the Preprocessed Validation data\n",
    "valid_features, valid_labels = pickle.load(open('preprocess_validation.p', mode='rb'))"
   ]
  },
  {
   "cell_type": "markdown",
   "metadata": {},
   "source": [
    "## Build the network\n",
    "For the neural network, you'll build each layer into a function.  Most of the code you've seen has been outside of functions. To test your code more thoroughly, we require that you put each layer in a function.  This allows us to give you better feedback and test for simple mistakes using our unittests before you submit your project.\n",
    "\n",
    ">**Note:** If you're finding it hard to dedicate enough time for this course each week, we've provided a small shortcut to this part of the project. In the next couple of problems, you'll have the option to use classes from the [TensorFlow Layers](https://www.tensorflow.org/api_docs/python/tf/layers) or [TensorFlow Layers (contrib)](https://www.tensorflow.org/api_guides/python/contrib.layers) packages to build each layer, except the layers you build in the \"Convolutional and Max Pooling Layer\" section.  TF Layers is similar to Keras's and TFLearn's abstraction to layers, so it's easy to pickup.\n",
    "\n",
    ">However, if you would like to get the most out of this course, try to solve all the problems _without_ using anything from the TF Layers packages. You **can** still use classes from other packages that happen to have the same name as ones you find in TF Layers! For example, instead of using the TF Layers version of the `conv2d` class, [tf.layers.conv2d](https://www.tensorflow.org/api_docs/python/tf/layers/conv2d), you would want to use the TF Neural Network version of `conv2d`, [tf.nn.conv2d](https://www.tensorflow.org/api_docs/python/tf/nn/conv2d). \n",
    "\n",
    "Let's begin!\n",
    "\n",
    "### Input\n",
    "The neural network needs to read the image data, one-hot encoded labels, and dropout keep probability. Implement the following functions\n",
    "* Implement `neural_net_image_input`\n",
    " * Return a [TF Placeholder](https://www.tensorflow.org/api_docs/python/tf/placeholder)\n",
    " * Set the shape using `image_shape` with batch size set to `None`.\n",
    " * Name the TensorFlow placeholder \"x\" using the TensorFlow `name` parameter in the [TF Placeholder](https://www.tensorflow.org/api_docs/python/tf/placeholder).\n",
    "* Implement `neural_net_label_input`\n",
    " * Return a [TF Placeholder](https://www.tensorflow.org/api_docs/python/tf/placeholder)\n",
    " * Set the shape using `n_classes` with batch size set to `None`.\n",
    " * Name the TensorFlow placeholder \"y\" using the TensorFlow `name` parameter in the [TF Placeholder](https://www.tensorflow.org/api_docs/python/tf/placeholder).\n",
    "* Implement `neural_net_keep_prob_input`\n",
    " * Return a [TF Placeholder](https://www.tensorflow.org/api_docs/python/tf/placeholder) for dropout keep probability.\n",
    " * Name the TensorFlow placeholder \"keep_prob\" using the TensorFlow `name` parameter in the [TF Placeholder](https://www.tensorflow.org/api_docs/python/tf/placeholder).\n",
    "\n",
    "These names will be used at the end of the project to load your saved model.\n",
    "\n",
    "Note: `None` for shapes in TensorFlow allow for a dynamic size."
   ]
  },
  {
   "cell_type": "code",
   "execution_count": 15,
   "metadata": {
    "collapsed": false
   },
   "outputs": [
    {
     "name": "stdout",
     "output_type": "stream",
     "text": [
      "Image Input Tests Passed.\n",
      "Label Input Tests Passed.\n",
      "Keep Prob Tests Passed.\n"
     ]
    }
   ],
   "source": [
    "import tensorflow as tf\n",
    "\n",
    "def neural_net_image_input(image_shape):\n",
    "    \"\"\"\n",
    "    Return a Tensor for a batch of image input\n",
    "    : image_shape: Shape of the images\n",
    "    : return: Tensor for image input.\n",
    "    \"\"\"\n",
    "    # TODO: Implement Function\n",
    "    \n",
    "    return tf.placeholder(tf.float32,shape=[None, image_shape[0], image_shape[1], image_shape[2]], name='x')\n",
    "\n",
    "\n",
    "\n",
    "def neural_net_label_input(n_classes):\n",
    "    \"\"\"\n",
    "    Return a Tensor for a batch of label input\n",
    "    : n_classes: Number of classes\n",
    "    : return: Tensor for label input.\n",
    "    \"\"\"\n",
    "    # TODO: Implement Function\n",
    "    return tf.placeholder(tf.float32, shape=[None,n_classes], name='y')\n",
    "\n",
    "\n",
    "def neural_net_keep_prob_input():\n",
    "    \"\"\"\n",
    "    Return a Tensor for keep probability\n",
    "    : return: Tensor for keep probability.\n",
    "    \"\"\"\n",
    "    # TODO: Implement Function\n",
    "    return tf.placeholder(tf.float32, name='keep_prob')\n",
    "\n",
    "\n",
    "\"\"\"\n",
    "DON'T MODIFY ANYTHING IN THIS CELL THAT IS BELOW THIS LINE\n",
    "\"\"\"\n",
    "tf.reset_default_graph()\n",
    "tests.test_nn_image_inputs(neural_net_image_input)\n",
    "tests.test_nn_label_inputs(neural_net_label_input)\n",
    "tests.test_nn_keep_prob_inputs(neural_net_keep_prob_input)"
   ]
  },
  {
   "cell_type": "markdown",
   "metadata": {},
   "source": [
    "### Convolution and Max Pooling Layer\n",
    "Convolution layers have a lot of success with images. For this code cell, you should implement the function `conv2d_maxpool` to apply convolution then max pooling:\n",
    "* Create the weight and bias using `conv_ksize`, `conv_num_outputs` and the shape of `x_tensor`.\n",
    "* Apply a convolution to `x_tensor` using weight and `conv_strides`.\n",
    " * We recommend you use same padding, but you're welcome to use any padding.\n",
    "* Add bias\n",
    "* Add a nonlinear activation to the convolution.\n",
    "* Apply Max Pooling using `pool_ksize` and `pool_strides`.\n",
    " * We recommend you use same padding, but you're welcome to use any padding.\n",
    "\n",
    "**Note:** You **can't** use [TensorFlow Layers](https://www.tensorflow.org/api_docs/python/tf/layers) or [TensorFlow Layers (contrib)](https://www.tensorflow.org/api_guides/python/contrib.layers) for **this** layer, but you can still use TensorFlow's [Neural Network](https://www.tensorflow.org/api_docs/python/tf/nn) package. You may still use the shortcut option for all the **other** layers."
   ]
  },
  {
   "cell_type": "code",
   "execution_count": 16,
   "metadata": {
    "collapsed": false
   },
   "outputs": [
    {
     "name": "stdout",
     "output_type": "stream",
     "text": [
      "2\n",
      "2\n",
      "[None, 32, 32, 5]\n",
      "10\n",
      "Tests Passed\n"
     ]
    }
   ],
   "source": [
    "def conv2d_maxpool(x_tensor, conv_num_outputs, conv_ksize, conv_strides, pool_ksize, pool_strides):\n",
    "    \"\"\"\n",
    "    Apply convolution then max pooling to x_tensor\n",
    "    :param x_tensor: TensorFlow Tensor\n",
    "    :param conv_num_outputs: Number of outputs for the convolutional layer\n",
    "    :param conv_ksize: kernal size 2-D Tuple for the convolutional layer\n",
    "    :param conv_strides: Stride 2-D Tuple for convolution\n",
    "    :param pool_ksize: kernal size 2-D Tuple for pool\n",
    "    :param pool_strides: Stride 2-D Tuple for pool\n",
    "    : return: A tensor that represents convolution and max pooling of x_tensor\n",
    "    \"\"\"\n",
    "    # TODO: Implement Function\n",
    "    # Weight and bias\n",
    "    input_depth = x_tensor.get_shape().as_list()\n",
    "    print(conv_ksize[0])\n",
    "    print(conv_ksize[1])\n",
    "    print(input_depth)\n",
    "    print(conv_num_outputs)\n",
    "    \n",
    "    weight = tf.Variable(tf.truncated_normal([conv_ksize[0], conv_ksize[1], input_depth[3], conv_num_outputs]))\n",
    "    bias = tf.Variable(tf.zeros(conv_num_outputs))\n",
    "\n",
    "    # Apply Convolution\n",
    "    conv_stride_shape = [1, conv_strides[0], conv_strides[1], 1]\n",
    "    conv_layer = tf.nn.conv2d(x_tensor, weight, conv_stride_shape, padding='SAME')\n",
    "    # Add bias\n",
    "    conv_layer = tf.nn.bias_add(conv_layer, bias)\n",
    "    # Apply activation function\n",
    "    conv_layer = tf.nn.relu(conv_layer)\n",
    "    \n",
    "    # Apply Max Pooling\n",
    "    pool_kernal_shape = [1, pool_ksize[0], pool_ksize[1], 1]\n",
    "    pool_stride_shape = [1, pool_strides[0], pool_strides[1], 1]\n",
    "    conv_layer = tf.nn.max_pool(\n",
    "        conv_layer,\n",
    "        ksize = pool_kernal_shape,\n",
    "        strides = pool_stride_shape,\n",
    "        padding='SAME')\n",
    "    \n",
    "    return conv_layer \n",
    "\n",
    "\n",
    "\"\"\"\n",
    "DON'T MODIFY ANYTHING IN THIS CELL THAT IS BELOW THIS LINE\n",
    "\"\"\"\n",
    "tests.test_con_pool(conv2d_maxpool)"
   ]
  },
  {
   "cell_type": "markdown",
   "metadata": {},
   "source": [
    "### Flatten Layer\n",
    "Implement the `flatten` function to change the dimension of `x_tensor` from a 4-D tensor to a 2-D tensor.  The output should be the shape (*Batch Size*, *Flattened Image Size*). Shortcut option: you can use classes from the [TensorFlow Layers](https://www.tensorflow.org/api_docs/python/tf/layers) or [TensorFlow Layers (contrib)](https://www.tensorflow.org/api_guides/python/contrib.layers) packages for this layer. For more of a challenge, only use other TensorFlow packages."
   ]
  },
  {
   "cell_type": "code",
   "execution_count": 17,
   "metadata": {
    "collapsed": false
   },
   "outputs": [
    {
     "name": "stdout",
     "output_type": "stream",
     "text": [
      "Tests Passed\n"
     ]
    }
   ],
   "source": [
    "def flatten(x_tensor):\n",
    "    \"\"\"\n",
    "    Flatten x_tensor to (Batch Size, Flattened Image Size)\n",
    "    : x_tensor: A tensor of size (Batch Size, ...), where ... are the image dimensions.\n",
    "    : return: A tensor of size (Batch Size, Flattened Image Size).\n",
    "    \"\"\"\n",
    "    # TODO: Implement Function\n",
    "    return tf.contrib.layers.flatten(x_tensor)\n",
    "\n",
    "\n",
    "\"\"\"\n",
    "DON'T MODIFY ANYTHING IN THIS CELL THAT IS BELOW THIS LINE\n",
    "\"\"\"\n",
    "tests.test_flatten(flatten)"
   ]
  },
  {
   "cell_type": "markdown",
   "metadata": {},
   "source": [
    "### Fully-Connected Layer\n",
    "Implement the `fully_conn` function to apply a fully connected layer to `x_tensor` with the shape (*Batch Size*, *num_outputs*). Shortcut option: you can use classes from the [TensorFlow Layers](https://www.tensorflow.org/api_docs/python/tf/layers) or [TensorFlow Layers (contrib)](https://www.tensorflow.org/api_guides/python/contrib.layers) packages for this layer. For more of a challenge, only use other TensorFlow packages."
   ]
  },
  {
   "cell_type": "code",
   "execution_count": 18,
   "metadata": {
    "collapsed": false
   },
   "outputs": [
    {
     "name": "stdout",
     "output_type": "stream",
     "text": [
      "Tests Passed\n"
     ]
    }
   ],
   "source": [
    "def fully_conn(x_tensor, num_outputs):\n",
    "    \"\"\"\n",
    "    Apply a fully connected layer to x_tensor using weight and bias\n",
    "    : x_tensor: A 2-D tensor where the first dimension is batch size.\n",
    "    : num_outputs: The number of output that the new tensor should be.\n",
    "    : return: A 2-D tensor where the second dimension is num_outputs.\n",
    "    \"\"\"\n",
    "    # TODO: Implement Function\n",
    "    return tf.contrib.layers.fully_connected(inputs=x_tensor, num_outputs=num_outputs)\n",
    "\n",
    "\n",
    "\"\"\"\n",
    "DON'T MODIFY ANYTHING IN THIS CELL THAT IS BELOW THIS LINE\n",
    "\"\"\"\n",
    "tests.test_fully_conn(fully_conn)"
   ]
  },
  {
   "cell_type": "markdown",
   "metadata": {},
   "source": [
    "### Output Layer\n",
    "Implement the `output` function to apply a fully connected layer to `x_tensor` with the shape (*Batch Size*, *num_outputs*). Shortcut option: you can use classes from the [TensorFlow Layers](https://www.tensorflow.org/api_docs/python/tf/layers) or [TensorFlow Layers (contrib)](https://www.tensorflow.org/api_guides/python/contrib.layers) packages for this layer. For more of a challenge, only use other TensorFlow packages.\n",
    "\n",
    "**Note:** Activation, softmax, or cross entropy should **not** be applied to this."
   ]
  },
  {
   "cell_type": "code",
   "execution_count": 19,
   "metadata": {
    "collapsed": false
   },
   "outputs": [
    {
     "name": "stdout",
     "output_type": "stream",
     "text": [
      "Tests Passed\n"
     ]
    }
   ],
   "source": [
    "def output(x_tensor, num_outputs):\n",
    "    \"\"\"\n",
    "    Apply a output layer to x_tensor using weight and bias\n",
    "    : x_tensor: A 2-D tensor where the first dimension is batch size.\n",
    "    : num_outputs: The number of output that the new tensor should be.\n",
    "    : return: A 2-D tensor where the second dimension is num_outputs.\n",
    "    \"\"\"\n",
    "    # TODO: Implement Function\n",
    "    return tf.layers.dense(x_tensor, num_outputs)\n",
    "\n",
    "\n",
    "\"\"\"\n",
    "DON'T MODIFY ANYTHING IN THIS CELL THAT IS BELOW THIS LINE\n",
    "\"\"\"\n",
    "tests.test_output(output)"
   ]
  },
  {
   "cell_type": "markdown",
   "metadata": {},
   "source": [
    "### Create Convolutional Model\n",
    "Implement the function `conv_net` to create a convolutional neural network model. The function takes in a batch of images, `x`, and outputs logits.  Use the layers you created above to create this model:\n",
    "\n",
    "* Apply 1, 2, or 3 Convolution and Max Pool layers\n",
    "* Apply a Flatten Layer\n",
    "* Apply 1, 2, or 3 Fully Connected Layers\n",
    "* Apply an Output Layer\n",
    "* Return the output\n",
    "* Apply [TensorFlow's Dropout](https://www.tensorflow.org/api_docs/python/tf/nn/dropout) to one or more layers in the model using `keep_prob`. "
   ]
  },
  {
   "cell_type": "code",
   "execution_count": 25,
   "metadata": {
    "collapsed": false
   },
   "outputs": [
    {
     "name": "stdout",
     "output_type": "stream",
     "text": [
      "5\n",
      "5\n",
      "[None, 32, 32, 3]\n",
      "10\n",
      "5\n",
      "5\n",
      "[None, 32, 32, 3]\n",
      "10\n",
      "Neural Network Built!\n"
     ]
    }
   ],
   "source": [
    "def conv_net(x, keep_prob):\n",
    "    \"\"\"\n",
    "    Create a convolutional neural network model\n",
    "    : x: Placeholder tensor that holds image data.\n",
    "    : keep_prob: Placeholder tensor that hold dropout keep probability.\n",
    "    : return: Tensor that represents logits\n",
    "    \"\"\"\n",
    "    # TODO: Apply 1, 2, or 3 Convolution and Max Pool layers\n",
    "    #    Play around with different number of outputs, kernel size and stride\n",
    "    # Function Definition from Above:\n",
    "    #    conv2d_maxpool(x_tensor, conv_num_outputs, conv_ksize, conv_strides, pool_ksize, pool_strides)\n",
    "    conv_num_outputs = 10\n",
    "    conv_ksize = (5, 5)\n",
    "    conv_strides = (3, 3)\n",
    "    pool_ksize = (2, 2)\n",
    "    pool_strides = (2, 2)\n",
    "    \n",
    "    conv = conv2d_maxpool(x, conv_num_outputs, conv_ksize, conv_strides, pool_ksize, pool_strides)\n",
    "\n",
    "    \n",
    "    # TODO: Apply a Flatten Layer\n",
    "    # Function Definition from Above:\n",
    "    #   flatten(x_tensor)\n",
    "    x_flatten = flatten(conv)\n",
    "\n",
    "    # TODO: Apply 1, 2, or 3 Fully Connected Layers\n",
    "    #    Play around with different number of outputs\n",
    "    # Function Definition from Above:\n",
    "    #   fully_conn(x_tensor, num_outputs)\n",
    "    num_outputs = 10\n",
    "    f_conn = fully_conn(x_flatten, num_outputs)\n",
    "    \n",
    "    # TODO: Apply an Output Layer\n",
    "    #    Set this to the number of classes\n",
    "    # Function Definition from Above:\n",
    "    #   output(x_tensor, num_outputs)\n",
    "    out = output(f_conn, num_outputs)\n",
    "    \n",
    "    # TODO: return output\n",
    "    return out\n",
    "\n",
    "\n",
    "\"\"\"\n",
    "DON'T MODIFY ANYTHING IN THIS CELL THAT IS BELOW THIS LINE\n",
    "\"\"\"\n",
    "\n",
    "##############################\n",
    "## Build the Neural Network ##\n",
    "##############################\n",
    "\n",
    "# Remove previous weights, bias, inputs, etc..\n",
    "tf.reset_default_graph()\n",
    "\n",
    "# Inputs\n",
    "x = neural_net_image_input((32, 32, 3))\n",
    "y = neural_net_label_input(10)\n",
    "keep_prob = neural_net_keep_prob_input()\n",
    "\n",
    "# Model\n",
    "logits = conv_net(x, keep_prob)\n",
    "\n",
    "# Name logits Tensor, so that is can be loaded from disk after training\n",
    "logits = tf.identity(logits, name='logits')\n",
    "\n",
    "# Loss and Optimizer\n",
    "cost = tf.reduce_mean(tf.nn.softmax_cross_entropy_with_logits(logits=logits, labels=y))\n",
    "optimizer = tf.train.AdamOptimizer().minimize(cost)\n",
    "\n",
    "# Accuracy\n",
    "correct_pred = tf.equal(tf.argmax(logits, 1), tf.argmax(y, 1))\n",
    "accuracy = tf.reduce_mean(tf.cast(correct_pred, tf.float32), name='accuracy')\n",
    "\n",
    "tests.test_conv_net(conv_net)"
   ]
  },
  {
   "cell_type": "markdown",
   "metadata": {},
   "source": [
    "## Train the Neural Network\n",
    "### Single Optimization\n",
    "Implement the function `train_neural_network` to do a single optimization.  The optimization should use `optimizer` to optimize in `session` with a `feed_dict` of the following:\n",
    "* `x` for image input\n",
    "* `y` for labels\n",
    "* `keep_prob` for keep probability for dropout\n",
    "\n",
    "This function will be called for each batch, so `tf.global_variables_initializer()` has already been called.\n",
    "\n",
    "Note: Nothing needs to be returned. This function is only optimizing the neural network."
   ]
  },
  {
   "cell_type": "code",
   "execution_count": 26,
   "metadata": {
    "collapsed": false
   },
   "outputs": [
    {
     "name": "stdout",
     "output_type": "stream",
     "text": [
      "Tests Passed\n"
     ]
    }
   ],
   "source": [
    "def train_neural_network(session, optimizer, keep_probability, feature_batch, label_batch):\n",
    "    \"\"\"\n",
    "    Optimize the session on a batch of images and labels\n",
    "    : session: Current TensorFlow session\n",
    "    : optimizer: TensorFlow optimizer function\n",
    "    : keep_probability: keep probability\n",
    "    : feature_batch: Batch of Numpy image data\n",
    "    : label_batch: Batch of Numpy label data\n",
    "    \"\"\"\n",
    "    # TODO: Implement Function\n",
    "    session.run(optimizer, feed_dict={x: feature_batch, y: label_batch, keep_prob: keep_probability})\n",
    "\n",
    "\n",
    "\"\"\"\n",
    "DON'T MODIFY ANYTHING IN THIS CELL THAT IS BELOW THIS LINE\n",
    "\"\"\"\n",
    "tests.test_train_nn(train_neural_network)"
   ]
  },
  {
   "cell_type": "markdown",
   "metadata": {},
   "source": [
    "### Show Stats\n",
    "Implement the function `print_stats` to print loss and validation accuracy.  Use the global variables `valid_features` and `valid_labels` to calculate validation accuracy.  Use a keep probability of `1.0` to calculate the loss and validation accuracy."
   ]
  },
  {
   "cell_type": "code",
   "execution_count": 27,
   "metadata": {
    "collapsed": false
   },
   "outputs": [],
   "source": [
    "def print_stats(session, feature_batch, label_batch, cost, accuracy):\n",
    "    \"\"\"\n",
    "    Print information about loss and validation accuracy\n",
    "    : session: Current TensorFlow session\n",
    "    : feature_batch: Batch of Numpy image data\n",
    "    : label_batch: Batch of Numpy label data\n",
    "    : cost: TensorFlow cost function\n",
    "    : accuracy: TensorFlow accuracy function\n",
    "    \"\"\"\n",
    "    # TODO: Implement Function\n",
    "    loss = session.run(cost, feed_dict={x: feature_batch, y: label_batch, keep_prob: 1.})\n",
    "    valid_acc = session.run(accuracy, feed_dict={\n",
    "                x: feature_batch,\n",
    "                y: label_batch,\n",
    "                keep_prob: 1.})\n",
    "\n",
    "    print(' Loss: {:>10.4f} Validation Accuracy: {:.6f}'.format(loss,valid_acc))"
   ]
  },
  {
   "cell_type": "markdown",
   "metadata": {},
   "source": [
    "### Hyperparameters\n",
    "Tune the following parameters:\n",
    "* Set `epochs` to the number of iterations until the network stops learning or start overfitting\n",
    "* Set `batch_size` to the highest number that your machine has memory for.  Most people set them to common sizes of memory:\n",
    " * 64\n",
    " * 128\n",
    " * 256\n",
    " * ...\n",
    "* Set `keep_probability` to the probability of keeping a node using dropout"
   ]
  },
  {
   "cell_type": "code",
   "execution_count": 28,
   "metadata": {
    "collapsed": true
   },
   "outputs": [],
   "source": [
    "# TODO: Tune Parameters\n",
    "epochs = 80\n",
    "batch_size = 256\n",
    "keep_probability = .5"
   ]
  },
  {
   "cell_type": "markdown",
   "metadata": {},
   "source": [
    "### Train on a Single CIFAR-10 Batch\n",
    "Instead of training the neural network on all the CIFAR-10 batches of data, let's use a single batch. This should save time while you iterate on the model to get a better accuracy.  Once the final validation accuracy is 50% or greater, run the model on all the data in the next section."
   ]
  },
  {
   "cell_type": "code",
   "execution_count": 29,
   "metadata": {
    "collapsed": false
   },
   "outputs": [
    {
     "name": "stdout",
     "output_type": "stream",
     "text": [
      "Checking the Training on a Single Batch...\n",
      "Epoch  1, CIFAR-10 Batch 1:   Loss:     2.2972 Validation Accuracy: 0.100000\n",
      "Epoch  2, CIFAR-10 Batch 1:   Loss:     2.3139 Validation Accuracy: 0.125000\n",
      "Epoch  3, CIFAR-10 Batch 1:   Loss:     2.3290 Validation Accuracy: 0.100000\n",
      "Epoch  4, CIFAR-10 Batch 1:   Loss:     2.3017 Validation Accuracy: 0.075000\n",
      "Epoch  5, CIFAR-10 Batch 1:   Loss:     2.2951 Validation Accuracy: 0.100000\n",
      "Epoch  6, CIFAR-10 Batch 1:   Loss:     2.2818 Validation Accuracy: 0.125000\n",
      "Epoch  7, CIFAR-10 Batch 1:   Loss:     2.2818 Validation Accuracy: 0.150000\n",
      "Epoch  8, CIFAR-10 Batch 1:   Loss:     2.2577 Validation Accuracy: 0.125000\n",
      "Epoch  9, CIFAR-10 Batch 1:   Loss:     2.2399 Validation Accuracy: 0.150000\n",
      "Epoch 10, CIFAR-10 Batch 1:   Loss:     2.1807 Validation Accuracy: 0.175000\n",
      "Epoch 11, CIFAR-10 Batch 1:   Loss:     2.0894 Validation Accuracy: 0.200000\n",
      "Epoch 12, CIFAR-10 Batch 1:   Loss:     2.0312 Validation Accuracy: 0.250000\n",
      "Epoch 13, CIFAR-10 Batch 1:   Loss:     1.9511 Validation Accuracy: 0.300000\n",
      "Epoch 14, CIFAR-10 Batch 1:   Loss:     1.9047 Validation Accuracy: 0.300000\n",
      "Epoch 15, CIFAR-10 Batch 1:   Loss:     1.9016 Validation Accuracy: 0.300000\n",
      "Epoch 16, CIFAR-10 Batch 1:   Loss:     1.9004 Validation Accuracy: 0.250000\n",
      "Epoch 17, CIFAR-10 Batch 1:   Loss:     1.8996 Validation Accuracy: 0.225000\n",
      "Epoch 18, CIFAR-10 Batch 1:   Loss:     1.8903 Validation Accuracy: 0.275000\n",
      "Epoch 19, CIFAR-10 Batch 1:   Loss:     1.8841 Validation Accuracy: 0.300000\n",
      "Epoch 20, CIFAR-10 Batch 1:   Loss:     1.8770 Validation Accuracy: 0.250000\n",
      "Epoch 21, CIFAR-10 Batch 1:   Loss:     1.8457 Validation Accuracy: 0.300000\n",
      "Epoch 22, CIFAR-10 Batch 1:   Loss:     1.8266 Validation Accuracy: 0.300000\n",
      "Epoch 23, CIFAR-10 Batch 1:   Loss:     1.7978 Validation Accuracy: 0.275000\n",
      "Epoch 24, CIFAR-10 Batch 1:   Loss:     1.7779 Validation Accuracy: 0.325000\n",
      "Epoch 25, CIFAR-10 Batch 1:   Loss:     1.7541 Validation Accuracy: 0.325000\n",
      "Epoch 26, CIFAR-10 Batch 1:   Loss:     1.7232 Validation Accuracy: 0.325000\n",
      "Epoch 27, CIFAR-10 Batch 1:   Loss:     1.7049 Validation Accuracy: 0.325000\n",
      "Epoch 28, CIFAR-10 Batch 1:   Loss:     1.6729 Validation Accuracy: 0.300000\n",
      "Epoch 29, CIFAR-10 Batch 1:   Loss:     1.6385 Validation Accuracy: 0.350000\n",
      "Epoch 30, CIFAR-10 Batch 1:   Loss:     1.6051 Validation Accuracy: 0.350000\n",
      "Epoch 31, CIFAR-10 Batch 1:   Loss:     1.5619 Validation Accuracy: 0.375000\n",
      "Epoch 32, CIFAR-10 Batch 1:   Loss:     1.5341 Validation Accuracy: 0.375000\n",
      "Epoch 33, CIFAR-10 Batch 1:   Loss:     1.5150 Validation Accuracy: 0.375000\n",
      "Epoch 34, CIFAR-10 Batch 1:   Loss:     1.4940 Validation Accuracy: 0.375000\n",
      "Epoch 35, CIFAR-10 Batch 1:   Loss:     1.4745 Validation Accuracy: 0.375000\n",
      "Epoch 36, CIFAR-10 Batch 1:   Loss:     1.4598 Validation Accuracy: 0.400000\n",
      "Epoch 37, CIFAR-10 Batch 1:   Loss:     1.4515 Validation Accuracy: 0.400000\n",
      "Epoch 38, CIFAR-10 Batch 1:   Loss:     1.4399 Validation Accuracy: 0.425000\n",
      "Epoch 39, CIFAR-10 Batch 1:   Loss:     1.4295 Validation Accuracy: 0.425000\n",
      "Epoch 40, CIFAR-10 Batch 1:   Loss:     1.4170 Validation Accuracy: 0.425000\n",
      "Epoch 41, CIFAR-10 Batch 1:   Loss:     1.4066 Validation Accuracy: 0.425000\n",
      "Epoch 42, CIFAR-10 Batch 1:   Loss:     1.3965 Validation Accuracy: 0.425000\n",
      "Epoch 43, CIFAR-10 Batch 1:   Loss:     1.3891 Validation Accuracy: 0.425000\n",
      "Epoch 44, CIFAR-10 Batch 1:   Loss:     1.3817 Validation Accuracy: 0.425000\n",
      "Epoch 45, CIFAR-10 Batch 1:   Loss:     1.3749 Validation Accuracy: 0.425000\n",
      "Epoch 46, CIFAR-10 Batch 1:   Loss:     1.3690 Validation Accuracy: 0.425000\n",
      "Epoch 47, CIFAR-10 Batch 1:   Loss:     1.3613 Validation Accuracy: 0.425000\n",
      "Epoch 48, CIFAR-10 Batch 1:   Loss:     1.3559 Validation Accuracy: 0.450000\n",
      "Epoch 49, CIFAR-10 Batch 1:   Loss:     1.3470 Validation Accuracy: 0.450000\n",
      "Epoch 50, CIFAR-10 Batch 1:   Loss:     1.3417 Validation Accuracy: 0.450000\n",
      "Epoch 51, CIFAR-10 Batch 1:   Loss:     1.3311 Validation Accuracy: 0.475000\n",
      "Epoch 52, CIFAR-10 Batch 1:   Loss:     1.3222 Validation Accuracy: 0.500000\n",
      "Epoch 53, CIFAR-10 Batch 1:   Loss:     1.3148 Validation Accuracy: 0.500000\n",
      "Epoch 54, CIFAR-10 Batch 1:   Loss:     1.3041 Validation Accuracy: 0.500000\n",
      "Epoch 55, CIFAR-10 Batch 1:   Loss:     1.2960 Validation Accuracy: 0.500000\n",
      "Epoch 56, CIFAR-10 Batch 1:   Loss:     1.2876 Validation Accuracy: 0.500000\n",
      "Epoch 57, CIFAR-10 Batch 1:   Loss:     1.2791 Validation Accuracy: 0.500000\n",
      "Epoch 58, CIFAR-10 Batch 1:   Loss:     1.2729 Validation Accuracy: 0.500000\n",
      "Epoch 59, CIFAR-10 Batch 1:   Loss:     1.2638 Validation Accuracy: 0.500000\n",
      "Epoch 60, CIFAR-10 Batch 1:   Loss:     1.2570 Validation Accuracy: 0.475000\n",
      "Epoch 61, CIFAR-10 Batch 1:   Loss:     1.2487 Validation Accuracy: 0.475000\n",
      "Epoch 62, CIFAR-10 Batch 1:   Loss:     1.2404 Validation Accuracy: 0.475000\n",
      "Epoch 63, CIFAR-10 Batch 1:   Loss:     1.2336 Validation Accuracy: 0.475000\n",
      "Epoch 64, CIFAR-10 Batch 1:   Loss:     1.2264 Validation Accuracy: 0.475000\n",
      "Epoch 65, CIFAR-10 Batch 1:   Loss:     1.2198 Validation Accuracy: 0.475000\n",
      "Epoch 66, CIFAR-10 Batch 1:   Loss:     1.2130 Validation Accuracy: 0.475000\n",
      "Epoch 67, CIFAR-10 Batch 1:   Loss:     1.2054 Validation Accuracy: 0.475000\n",
      "Epoch 68, CIFAR-10 Batch 1:   Loss:     1.2010 Validation Accuracy: 0.475000\n",
      "Epoch 69, CIFAR-10 Batch 1:   Loss:     1.1950 Validation Accuracy: 0.475000\n",
      "Epoch 70, CIFAR-10 Batch 1:   Loss:     1.1874 Validation Accuracy: 0.500000\n",
      "Epoch 71, CIFAR-10 Batch 1:   Loss:     1.1834 Validation Accuracy: 0.500000\n",
      "Epoch 72, CIFAR-10 Batch 1:   Loss:     1.1782 Validation Accuracy: 0.500000\n",
      "Epoch 73, CIFAR-10 Batch 1:   Loss:     1.1727 Validation Accuracy: 0.525000\n",
      "Epoch 74, CIFAR-10 Batch 1:   Loss:     1.1687 Validation Accuracy: 0.525000\n",
      "Epoch 75, CIFAR-10 Batch 1:   Loss:     1.1633 Validation Accuracy: 0.525000\n",
      "Epoch 76, CIFAR-10 Batch 1:   Loss:     1.1592 Validation Accuracy: 0.525000\n",
      "Epoch 77, CIFAR-10 Batch 1:   Loss:     1.1531 Validation Accuracy: 0.500000\n",
      "Epoch 78, CIFAR-10 Batch 1:   Loss:     1.1501 Validation Accuracy: 0.525000\n",
      "Epoch 79, CIFAR-10 Batch 1:   Loss:     1.1451 Validation Accuracy: 0.500000\n",
      "Epoch 80, CIFAR-10 Batch 1:   Loss:     1.1412 Validation Accuracy: 0.525000\n"
     ]
    }
   ],
   "source": [
    "\"\"\"\n",
    "DON'T MODIFY ANYTHING IN THIS CELL\n",
    "\"\"\"\n",
    "print('Checking the Training on a Single Batch...')\n",
    "with tf.Session() as sess:\n",
    "    # Initializing the variables\n",
    "    sess.run(tf.global_variables_initializer())\n",
    "    \n",
    "    # Training cycle\n",
    "    for epoch in range(epochs):\n",
    "        batch_i = 1\n",
    "        for batch_features, batch_labels in helper.load_preprocess_training_batch(batch_i, batch_size):\n",
    "            train_neural_network(sess, optimizer, keep_probability, batch_features, batch_labels)\n",
    "        print('Epoch {:>2}, CIFAR-10 Batch {}:  '.format(epoch + 1, batch_i), end='')\n",
    "        print_stats(sess, batch_features, batch_labels, cost, accuracy)"
   ]
  },
  {
   "cell_type": "markdown",
   "metadata": {},
   "source": [
    "### Fully Train the Model\n",
    "Now that you got a good accuracy with a single CIFAR-10 batch, try it with all five batches."
   ]
  },
  {
   "cell_type": "code",
   "execution_count": 30,
   "metadata": {
    "collapsed": false
   },
   "outputs": [
    {
     "name": "stdout",
     "output_type": "stream",
     "text": [
      "Training...\n",
      "Epoch  1, CIFAR-10 Batch 1:   Loss:     2.3060 Validation Accuracy: 0.050000\n",
      "Epoch  1, CIFAR-10 Batch 2:   Loss:     2.3042 Validation Accuracy: 0.075000\n",
      "Epoch  1, CIFAR-10 Batch 3:   Loss:     2.3042 Validation Accuracy: 0.150000\n",
      "Epoch  1, CIFAR-10 Batch 4:   Loss:     2.2968 Validation Accuracy: 0.125000\n",
      "Epoch  1, CIFAR-10 Batch 5:   Loss:     2.3021 Validation Accuracy: 0.100000\n",
      "Epoch  2, CIFAR-10 Batch 1:   Loss:     2.2980 Validation Accuracy: 0.075000\n",
      "Epoch  2, CIFAR-10 Batch 2:   Loss:     2.3261 Validation Accuracy: 0.050000\n",
      "Epoch  2, CIFAR-10 Batch 3:   Loss:     2.1998 Validation Accuracy: 0.075000\n",
      "Epoch  2, CIFAR-10 Batch 4:   Loss:     2.0875 Validation Accuracy: 0.175000\n",
      "Epoch  2, CIFAR-10 Batch 5:   Loss:     2.1354 Validation Accuracy: 0.100000\n",
      "Epoch  3, CIFAR-10 Batch 1:   Loss:     2.1732 Validation Accuracy: 0.250000\n",
      "Epoch  3, CIFAR-10 Batch 2:   Loss:     2.0424 Validation Accuracy: 0.175000\n",
      "Epoch  3, CIFAR-10 Batch 3:   Loss:     1.7999 Validation Accuracy: 0.250000\n",
      "Epoch  3, CIFAR-10 Batch 4:   Loss:     1.8319 Validation Accuracy: 0.250000\n",
      "Epoch  3, CIFAR-10 Batch 5:   Loss:     1.7359 Validation Accuracy: 0.275000\n",
      "Epoch  4, CIFAR-10 Batch 1:   Loss:     2.0798 Validation Accuracy: 0.275000\n",
      "Epoch  4, CIFAR-10 Batch 2:   Loss:     1.7759 Validation Accuracy: 0.225000\n",
      "Epoch  4, CIFAR-10 Batch 3:   Loss:     1.6884 Validation Accuracy: 0.300000\n",
      "Epoch  4, CIFAR-10 Batch 4:   Loss:     1.6666 Validation Accuracy: 0.225000\n",
      "Epoch  4, CIFAR-10 Batch 5:   Loss:     1.6593 Validation Accuracy: 0.275000\n",
      "Epoch  5, CIFAR-10 Batch 1:   Loss:     2.0300 Validation Accuracy: 0.350000\n",
      "Epoch  5, CIFAR-10 Batch 2:   Loss:     1.6988 Validation Accuracy: 0.325000\n",
      "Epoch  5, CIFAR-10 Batch 3:   Loss:     1.6361 Validation Accuracy: 0.250000\n",
      "Epoch  5, CIFAR-10 Batch 4:   Loss:     1.5971 Validation Accuracy: 0.225000\n",
      "Epoch  5, CIFAR-10 Batch 5:   Loss:     1.6349 Validation Accuracy: 0.325000\n",
      "Epoch  6, CIFAR-10 Batch 1:   Loss:     2.0053 Validation Accuracy: 0.350000\n",
      "Epoch  6, CIFAR-10 Batch 2:   Loss:     1.6699 Validation Accuracy: 0.325000\n",
      "Epoch  6, CIFAR-10 Batch 3:   Loss:     1.6080 Validation Accuracy: 0.225000\n",
      "Epoch  6, CIFAR-10 Batch 4:   Loss:     1.5602 Validation Accuracy: 0.225000\n",
      "Epoch  6, CIFAR-10 Batch 5:   Loss:     1.6218 Validation Accuracy: 0.375000\n",
      "Epoch  7, CIFAR-10 Batch 1:   Loss:     1.9861 Validation Accuracy: 0.350000\n",
      "Epoch  7, CIFAR-10 Batch 2:   Loss:     1.6562 Validation Accuracy: 0.375000\n",
      "Epoch  7, CIFAR-10 Batch 3:   Loss:     1.5830 Validation Accuracy: 0.325000\n",
      "Epoch  7, CIFAR-10 Batch 4:   Loss:     1.5324 Validation Accuracy: 0.250000\n",
      "Epoch  7, CIFAR-10 Batch 5:   Loss:     1.5993 Validation Accuracy: 0.375000\n",
      "Epoch  8, CIFAR-10 Batch 1:   Loss:     1.9673 Validation Accuracy: 0.350000\n",
      "Epoch  8, CIFAR-10 Batch 2:   Loss:     1.6247 Validation Accuracy: 0.375000\n",
      "Epoch  8, CIFAR-10 Batch 3:   Loss:     1.5582 Validation Accuracy: 0.350000\n",
      "Epoch  8, CIFAR-10 Batch 4:   Loss:     1.5111 Validation Accuracy: 0.275000\n",
      "Epoch  8, CIFAR-10 Batch 5:   Loss:     1.5804 Validation Accuracy: 0.375000\n",
      "Epoch  9, CIFAR-10 Batch 1:   Loss:     1.9254 Validation Accuracy: 0.300000\n",
      "Epoch  9, CIFAR-10 Batch 2:   Loss:     1.6030 Validation Accuracy: 0.425000\n",
      "Epoch  9, CIFAR-10 Batch 3:   Loss:     1.5281 Validation Accuracy: 0.375000\n",
      "Epoch  9, CIFAR-10 Batch 4:   Loss:     1.4966 Validation Accuracy: 0.350000\n",
      "Epoch  9, CIFAR-10 Batch 5:   Loss:     1.5735 Validation Accuracy: 0.350000\n",
      "Epoch 10, CIFAR-10 Batch 1:   Loss:     1.8871 Validation Accuracy: 0.300000\n",
      "Epoch 10, CIFAR-10 Batch 2:   Loss:     1.5882 Validation Accuracy: 0.450000\n",
      "Epoch 10, CIFAR-10 Batch 3:   Loss:     1.4981 Validation Accuracy: 0.425000\n",
      "Epoch 10, CIFAR-10 Batch 4:   Loss:     1.4713 Validation Accuracy: 0.350000\n",
      "Epoch 10, CIFAR-10 Batch 5:   Loss:     1.5553 Validation Accuracy: 0.350000\n",
      "Epoch 11, CIFAR-10 Batch 1:   Loss:     1.8832 Validation Accuracy: 0.275000\n",
      "Epoch 11, CIFAR-10 Batch 2:   Loss:     1.5659 Validation Accuracy: 0.425000\n",
      "Epoch 11, CIFAR-10 Batch 3:   Loss:     1.4497 Validation Accuracy: 0.425000\n",
      "Epoch 11, CIFAR-10 Batch 4:   Loss:     1.4516 Validation Accuracy: 0.425000\n",
      "Epoch 11, CIFAR-10 Batch 5:   Loss:     1.5394 Validation Accuracy: 0.400000\n",
      "Epoch 12, CIFAR-10 Batch 1:   Loss:     1.8488 Validation Accuracy: 0.325000\n",
      "Epoch 12, CIFAR-10 Batch 2:   Loss:     1.4778 Validation Accuracy: 0.425000\n",
      "Epoch 12, CIFAR-10 Batch 3:   Loss:     1.3856 Validation Accuracy: 0.425000\n",
      "Epoch 12, CIFAR-10 Batch 4:   Loss:     1.4607 Validation Accuracy: 0.475000\n",
      "Epoch 12, CIFAR-10 Batch 5:   Loss:     1.4696 Validation Accuracy: 0.475000\n",
      "Epoch 13, CIFAR-10 Batch 1:   Loss:     1.8399 Validation Accuracy: 0.250000\n",
      "Epoch 13, CIFAR-10 Batch 2:   Loss:     1.3671 Validation Accuracy: 0.525000\n",
      "Epoch 13, CIFAR-10 Batch 3:   Loss:     1.3246 Validation Accuracy: 0.475000\n",
      "Epoch 13, CIFAR-10 Batch 4:   Loss:     1.4510 Validation Accuracy: 0.475000\n",
      "Epoch 13, CIFAR-10 Batch 5:   Loss:     1.4293 Validation Accuracy: 0.500000\n",
      "Epoch 14, CIFAR-10 Batch 1:   Loss:     1.7822 Validation Accuracy: 0.400000\n",
      "Epoch 14, CIFAR-10 Batch 2:   Loss:     1.3119 Validation Accuracy: 0.500000\n",
      "Epoch 14, CIFAR-10 Batch 3:   Loss:     1.2752 Validation Accuracy: 0.525000\n",
      "Epoch 14, CIFAR-10 Batch 4:   Loss:     1.4329 Validation Accuracy: 0.450000\n",
      "Epoch 14, CIFAR-10 Batch 5:   Loss:     1.3809 Validation Accuracy: 0.550000\n",
      "Epoch 15, CIFAR-10 Batch 1:   Loss:     1.7625 Validation Accuracy: 0.400000\n",
      "Epoch 15, CIFAR-10 Batch 2:   Loss:     1.2773 Validation Accuracy: 0.500000\n",
      "Epoch 15, CIFAR-10 Batch 3:   Loss:     1.2453 Validation Accuracy: 0.500000\n",
      "Epoch 15, CIFAR-10 Batch 4:   Loss:     1.4147 Validation Accuracy: 0.500000\n",
      "Epoch 15, CIFAR-10 Batch 5:   Loss:     1.3662 Validation Accuracy: 0.550000\n",
      "Epoch 16, CIFAR-10 Batch 1:   Loss:     1.7311 Validation Accuracy: 0.425000\n",
      "Epoch 16, CIFAR-10 Batch 2:   Loss:     1.2536 Validation Accuracy: 0.500000\n",
      "Epoch 16, CIFAR-10 Batch 3:   Loss:     1.2248 Validation Accuracy: 0.525000\n",
      "Epoch 16, CIFAR-10 Batch 4:   Loss:     1.3932 Validation Accuracy: 0.525000\n",
      "Epoch 16, CIFAR-10 Batch 5:   Loss:     1.3507 Validation Accuracy: 0.525000\n",
      "Epoch 17, CIFAR-10 Batch 1:   Loss:     1.7096 Validation Accuracy: 0.450000\n",
      "Epoch 17, CIFAR-10 Batch 2:   Loss:     1.2306 Validation Accuracy: 0.525000\n",
      "Epoch 17, CIFAR-10 Batch 3:   Loss:     1.2052 Validation Accuracy: 0.575000\n",
      "Epoch 17, CIFAR-10 Batch 4:   Loss:     1.3822 Validation Accuracy: 0.525000\n",
      "Epoch 17, CIFAR-10 Batch 5:   Loss:     1.3399 Validation Accuracy: 0.525000\n",
      "Epoch 18, CIFAR-10 Batch 1:   Loss:     1.6842 Validation Accuracy: 0.475000\n",
      "Epoch 18, CIFAR-10 Batch 2:   Loss:     1.2031 Validation Accuracy: 0.525000\n",
      "Epoch 18, CIFAR-10 Batch 3:   Loss:     1.1795 Validation Accuracy: 0.575000\n",
      "Epoch 18, CIFAR-10 Batch 4:   Loss:     1.3678 Validation Accuracy: 0.475000\n",
      "Epoch 18, CIFAR-10 Batch 5:   Loss:     1.3308 Validation Accuracy: 0.500000\n",
      "Epoch 19, CIFAR-10 Batch 1:   Loss:     1.6613 Validation Accuracy: 0.450000\n",
      "Epoch 19, CIFAR-10 Batch 2:   Loss:     1.1850 Validation Accuracy: 0.625000\n",
      "Epoch 19, CIFAR-10 Batch 3:   Loss:     1.1612 Validation Accuracy: 0.575000\n",
      "Epoch 19, CIFAR-10 Batch 4:   Loss:     1.3569 Validation Accuracy: 0.550000\n",
      "Epoch 19, CIFAR-10 Batch 5:   Loss:     1.3237 Validation Accuracy: 0.500000\n",
      "Epoch 20, CIFAR-10 Batch 1:   Loss:     1.6422 Validation Accuracy: 0.450000\n",
      "Epoch 20, CIFAR-10 Batch 2:   Loss:     1.1722 Validation Accuracy: 0.625000\n",
      "Epoch 20, CIFAR-10 Batch 3:   Loss:     1.1457 Validation Accuracy: 0.625000\n",
      "Epoch 20, CIFAR-10 Batch 4:   Loss:     1.3485 Validation Accuracy: 0.550000\n",
      "Epoch 20, CIFAR-10 Batch 5:   Loss:     1.3183 Validation Accuracy: 0.550000\n",
      "Epoch 21, CIFAR-10 Batch 1:   Loss:     1.6248 Validation Accuracy: 0.450000\n",
      "Epoch 21, CIFAR-10 Batch 2:   Loss:     1.1591 Validation Accuracy: 0.600000\n",
      "Epoch 21, CIFAR-10 Batch 3:   Loss:     1.1307 Validation Accuracy: 0.625000\n",
      "Epoch 21, CIFAR-10 Batch 4:   Loss:     1.3394 Validation Accuracy: 0.550000\n",
      "Epoch 21, CIFAR-10 Batch 5:   Loss:     1.3084 Validation Accuracy: 0.525000\n",
      "Epoch 22, CIFAR-10 Batch 1:   Loss:     1.6109 Validation Accuracy: 0.450000\n",
      "Epoch 22, CIFAR-10 Batch 2:   Loss:     1.1465 Validation Accuracy: 0.625000\n",
      "Epoch 22, CIFAR-10 Batch 3:   Loss:     1.1213 Validation Accuracy: 0.625000\n",
      "Epoch 22, CIFAR-10 Batch 4:   Loss:     1.3354 Validation Accuracy: 0.550000\n",
      "Epoch 22, CIFAR-10 Batch 5:   Loss:     1.2997 Validation Accuracy: 0.525000\n",
      "Epoch 23, CIFAR-10 Batch 1:   Loss:     1.5945 Validation Accuracy: 0.475000\n",
      "Epoch 23, CIFAR-10 Batch 2:   Loss:     1.1341 Validation Accuracy: 0.625000\n",
      "Epoch 23, CIFAR-10 Batch 3:   Loss:     1.1106 Validation Accuracy: 0.625000\n",
      "Epoch 23, CIFAR-10 Batch 4:   Loss:     1.3284 Validation Accuracy: 0.575000\n",
      "Epoch 23, CIFAR-10 Batch 5:   Loss:     1.2927 Validation Accuracy: 0.525000\n",
      "Epoch 24, CIFAR-10 Batch 1:   Loss:     1.5809 Validation Accuracy: 0.450000\n",
      "Epoch 24, CIFAR-10 Batch 2:   Loss:     1.1266 Validation Accuracy: 0.625000\n",
      "Epoch 24, CIFAR-10 Batch 3:   Loss:     1.1032 Validation Accuracy: 0.625000\n",
      "Epoch 24, CIFAR-10 Batch 4:   Loss:     1.3226 Validation Accuracy: 0.575000\n",
      "Epoch 24, CIFAR-10 Batch 5:   Loss:     1.2855 Validation Accuracy: 0.525000\n",
      "Epoch 25, CIFAR-10 Batch 1:   Loss:     1.5703 Validation Accuracy: 0.450000\n",
      "Epoch 25, CIFAR-10 Batch 2:   Loss:     1.1199 Validation Accuracy: 0.600000\n",
      "Epoch 25, CIFAR-10 Batch 3:   Loss:     1.0973 Validation Accuracy: 0.625000\n",
      "Epoch 25, CIFAR-10 Batch 4:   Loss:     1.3177 Validation Accuracy: 0.575000\n",
      "Epoch 25, CIFAR-10 Batch 5:   Loss:     1.2800 Validation Accuracy: 0.550000\n",
      "Epoch 26, CIFAR-10 Batch 1:   Loss:     1.5590 Validation Accuracy: 0.475000\n",
      "Epoch 26, CIFAR-10 Batch 2:   Loss:     1.1136 Validation Accuracy: 0.600000\n",
      "Epoch 26, CIFAR-10 Batch 3:   Loss:     1.0918 Validation Accuracy: 0.650000\n",
      "Epoch 26, CIFAR-10 Batch 4:   Loss:     1.3118 Validation Accuracy: 0.575000\n",
      "Epoch 26, CIFAR-10 Batch 5:   Loss:     1.2764 Validation Accuracy: 0.550000\n",
      "Epoch 27, CIFAR-10 Batch 1:   Loss:     1.5480 Validation Accuracy: 0.475000\n",
      "Epoch 27, CIFAR-10 Batch 2:   Loss:     1.1083 Validation Accuracy: 0.600000\n",
      "Epoch 27, CIFAR-10 Batch 3:   Loss:     1.0879 Validation Accuracy: 0.650000\n",
      "Epoch 27, CIFAR-10 Batch 4:   Loss:     1.3091 Validation Accuracy: 0.575000\n",
      "Epoch 27, CIFAR-10 Batch 5:   Loss:     1.2726 Validation Accuracy: 0.550000\n",
      "Epoch 28, CIFAR-10 Batch 1:   Loss:     1.5402 Validation Accuracy: 0.475000\n",
      "Epoch 28, CIFAR-10 Batch 2:   Loss:     1.1031 Validation Accuracy: 0.600000\n",
      "Epoch 28, CIFAR-10 Batch 3:   Loss:     1.0832 Validation Accuracy: 0.650000\n",
      "Epoch 28, CIFAR-10 Batch 4:   Loss:     1.3047 Validation Accuracy: 0.600000\n",
      "Epoch 28, CIFAR-10 Batch 5:   Loss:     1.2693 Validation Accuracy: 0.550000\n",
      "Epoch 29, CIFAR-10 Batch 1:   Loss:     1.5321 Validation Accuracy: 0.450000\n",
      "Epoch 29, CIFAR-10 Batch 2:   Loss:     1.0973 Validation Accuracy: 0.600000\n",
      "Epoch 29, CIFAR-10 Batch 3:   Loss:     1.0774 Validation Accuracy: 0.650000\n",
      "Epoch 29, CIFAR-10 Batch 4:   Loss:     1.3020 Validation Accuracy: 0.600000\n",
      "Epoch 29, CIFAR-10 Batch 5:   Loss:     1.2657 Validation Accuracy: 0.600000\n",
      "Epoch 30, CIFAR-10 Batch 1:   Loss:     1.5221 Validation Accuracy: 0.450000\n",
      "Epoch 30, CIFAR-10 Batch 2:   Loss:     1.0939 Validation Accuracy: 0.600000\n",
      "Epoch 30, CIFAR-10 Batch 3:   Loss:     1.0716 Validation Accuracy: 0.650000\n",
      "Epoch 30, CIFAR-10 Batch 4:   Loss:     1.2997 Validation Accuracy: 0.600000\n",
      "Epoch 30, CIFAR-10 Batch 5:   Loss:     1.2591 Validation Accuracy: 0.575000\n",
      "Epoch 31, CIFAR-10 Batch 1:   Loss:     1.5153 Validation Accuracy: 0.450000\n",
      "Epoch 31, CIFAR-10 Batch 2:   Loss:     1.0899 Validation Accuracy: 0.600000\n",
      "Epoch 31, CIFAR-10 Batch 3:   Loss:     1.0667 Validation Accuracy: 0.675000\n",
      "Epoch 31, CIFAR-10 Batch 4:   Loss:     1.2975 Validation Accuracy: 0.600000\n",
      "Epoch 31, CIFAR-10 Batch 5:   Loss:     1.2554 Validation Accuracy: 0.575000\n",
      "Epoch 32, CIFAR-10 Batch 1:   Loss:     1.5130 Validation Accuracy: 0.475000\n",
      "Epoch 32, CIFAR-10 Batch 2:   Loss:     1.0876 Validation Accuracy: 0.600000\n",
      "Epoch 32, CIFAR-10 Batch 3:   Loss:     1.0632 Validation Accuracy: 0.675000\n",
      "Epoch 32, CIFAR-10 Batch 4:   Loss:     1.2954 Validation Accuracy: 0.600000\n",
      "Epoch 32, CIFAR-10 Batch 5:   Loss:     1.2486 Validation Accuracy: 0.575000\n",
      "Epoch 33, CIFAR-10 Batch 1:   Loss:     1.5057 Validation Accuracy: 0.475000\n",
      "Epoch 33, CIFAR-10 Batch 2:   Loss:     1.0850 Validation Accuracy: 0.600000\n",
      "Epoch 33, CIFAR-10 Batch 3:   Loss:     1.0592 Validation Accuracy: 0.675000\n",
      "Epoch 33, CIFAR-10 Batch 4:   Loss:     1.2923 Validation Accuracy: 0.600000\n",
      "Epoch 33, CIFAR-10 Batch 5:   Loss:     1.2436 Validation Accuracy: 0.575000\n",
      "Epoch 34, CIFAR-10 Batch 1:   Loss:     1.4959 Validation Accuracy: 0.475000\n",
      "Epoch 34, CIFAR-10 Batch 2:   Loss:     1.0833 Validation Accuracy: 0.600000\n",
      "Epoch 34, CIFAR-10 Batch 3:   Loss:     1.0556 Validation Accuracy: 0.675000\n",
      "Epoch 34, CIFAR-10 Batch 4:   Loss:     1.2880 Validation Accuracy: 0.600000\n",
      "Epoch 34, CIFAR-10 Batch 5:   Loss:     1.2393 Validation Accuracy: 0.575000\n",
      "Epoch 35, CIFAR-10 Batch 1:   Loss:     1.4931 Validation Accuracy: 0.500000\n",
      "Epoch 35, CIFAR-10 Batch 2:   Loss:     1.0813 Validation Accuracy: 0.600000\n",
      "Epoch 35, CIFAR-10 Batch 3:   Loss:     1.0516 Validation Accuracy: 0.675000\n",
      "Epoch 35, CIFAR-10 Batch 4:   Loss:     1.2847 Validation Accuracy: 0.625000\n",
      "Epoch 35, CIFAR-10 Batch 5:   Loss:     1.2339 Validation Accuracy: 0.575000\n",
      "Epoch 36, CIFAR-10 Batch 1:   Loss:     1.4871 Validation Accuracy: 0.475000\n",
      "Epoch 36, CIFAR-10 Batch 2:   Loss:     1.0800 Validation Accuracy: 0.600000\n",
      "Epoch 36, CIFAR-10 Batch 3:   Loss:     1.0481 Validation Accuracy: 0.675000\n",
      "Epoch 36, CIFAR-10 Batch 4:   Loss:     1.2810 Validation Accuracy: 0.625000\n",
      "Epoch 36, CIFAR-10 Batch 5:   Loss:     1.2292 Validation Accuracy: 0.575000\n",
      "Epoch 37, CIFAR-10 Batch 1:   Loss:     1.4805 Validation Accuracy: 0.500000\n",
      "Epoch 37, CIFAR-10 Batch 2:   Loss:     1.0784 Validation Accuracy: 0.600000\n",
      "Epoch 37, CIFAR-10 Batch 3:   Loss:     1.0442 Validation Accuracy: 0.650000\n",
      "Epoch 37, CIFAR-10 Batch 4:   Loss:     1.2772 Validation Accuracy: 0.625000\n",
      "Epoch 37, CIFAR-10 Batch 5:   Loss:     1.2254 Validation Accuracy: 0.600000\n",
      "Epoch 38, CIFAR-10 Batch 1:   Loss:     1.4728 Validation Accuracy: 0.500000\n",
      "Epoch 38, CIFAR-10 Batch 2:   Loss:     1.0776 Validation Accuracy: 0.600000\n",
      "Epoch 38, CIFAR-10 Batch 3:   Loss:     1.0395 Validation Accuracy: 0.650000\n",
      "Epoch 38, CIFAR-10 Batch 4:   Loss:     1.2714 Validation Accuracy: 0.625000\n",
      "Epoch 38, CIFAR-10 Batch 5:   Loss:     1.2209 Validation Accuracy: 0.600000\n",
      "Epoch 39, CIFAR-10 Batch 1:   Loss:     1.4665 Validation Accuracy: 0.500000\n",
      "Epoch 39, CIFAR-10 Batch 2:   Loss:     1.0756 Validation Accuracy: 0.625000\n",
      "Epoch 39, CIFAR-10 Batch 3:   Loss:     1.0343 Validation Accuracy: 0.650000\n",
      "Epoch 39, CIFAR-10 Batch 4:   Loss:     1.2680 Validation Accuracy: 0.625000\n",
      "Epoch 39, CIFAR-10 Batch 5:   Loss:     1.2175 Validation Accuracy: 0.600000\n",
      "Epoch 40, CIFAR-10 Batch 1:   Loss:     1.4627 Validation Accuracy: 0.500000\n",
      "Epoch 40, CIFAR-10 Batch 2:   Loss:     1.0758 Validation Accuracy: 0.625000\n",
      "Epoch 40, CIFAR-10 Batch 3:   Loss:     1.0301 Validation Accuracy: 0.650000\n",
      "Epoch 40, CIFAR-10 Batch 4:   Loss:     1.2649 Validation Accuracy: 0.625000\n",
      "Epoch 40, CIFAR-10 Batch 5:   Loss:     1.2138 Validation Accuracy: 0.575000\n",
      "Epoch 41, CIFAR-10 Batch 1:   Loss:     1.4561 Validation Accuracy: 0.525000\n",
      "Epoch 41, CIFAR-10 Batch 2:   Loss:     1.0771 Validation Accuracy: 0.625000\n",
      "Epoch 41, CIFAR-10 Batch 3:   Loss:     1.0229 Validation Accuracy: 0.650000\n",
      "Epoch 41, CIFAR-10 Batch 4:   Loss:     1.2608 Validation Accuracy: 0.625000\n",
      "Epoch 41, CIFAR-10 Batch 5:   Loss:     1.2106 Validation Accuracy: 0.575000\n",
      "Epoch 42, CIFAR-10 Batch 1:   Loss:     1.4524 Validation Accuracy: 0.525000\n",
      "Epoch 42, CIFAR-10 Batch 2:   Loss:     1.0778 Validation Accuracy: 0.625000\n",
      "Epoch 42, CIFAR-10 Batch 3:   Loss:     1.0161 Validation Accuracy: 0.650000\n",
      "Epoch 42, CIFAR-10 Batch 4:   Loss:     1.2564 Validation Accuracy: 0.600000\n",
      "Epoch 42, CIFAR-10 Batch 5:   Loss:     1.2072 Validation Accuracy: 0.575000\n",
      "Epoch 43, CIFAR-10 Batch 1:   Loss:     1.4460 Validation Accuracy: 0.525000\n",
      "Epoch 43, CIFAR-10 Batch 2:   Loss:     1.0770 Validation Accuracy: 0.625000\n",
      "Epoch 43, CIFAR-10 Batch 3:   Loss:     1.0138 Validation Accuracy: 0.650000\n",
      "Epoch 43, CIFAR-10 Batch 4:   Loss:     1.2492 Validation Accuracy: 0.600000\n",
      "Epoch 43, CIFAR-10 Batch 5:   Loss:     1.2016 Validation Accuracy: 0.550000\n",
      "Epoch 44, CIFAR-10 Batch 1:   Loss:     1.4368 Validation Accuracy: 0.525000\n",
      "Epoch 44, CIFAR-10 Batch 2:   Loss:     1.0782 Validation Accuracy: 0.625000\n",
      "Epoch 44, CIFAR-10 Batch 3:   Loss:     1.0076 Validation Accuracy: 0.650000\n",
      "Epoch 44, CIFAR-10 Batch 4:   Loss:     1.2442 Validation Accuracy: 0.600000\n",
      "Epoch 44, CIFAR-10 Batch 5:   Loss:     1.1981 Validation Accuracy: 0.575000\n",
      "Epoch 45, CIFAR-10 Batch 1:   Loss:     1.4289 Validation Accuracy: 0.525000\n",
      "Epoch 45, CIFAR-10 Batch 2:   Loss:     1.0773 Validation Accuracy: 0.600000\n",
      "Epoch 45, CIFAR-10 Batch 3:   Loss:     1.0048 Validation Accuracy: 0.650000\n",
      "Epoch 45, CIFAR-10 Batch 4:   Loss:     1.2270 Validation Accuracy: 0.600000\n",
      "Epoch 45, CIFAR-10 Batch 5:   Loss:     1.1948 Validation Accuracy: 0.575000\n",
      "Epoch 46, CIFAR-10 Batch 1:   Loss:     1.4292 Validation Accuracy: 0.525000\n",
      "Epoch 46, CIFAR-10 Batch 2:   Loss:     1.0722 Validation Accuracy: 0.625000\n",
      "Epoch 46, CIFAR-10 Batch 3:   Loss:     0.9988 Validation Accuracy: 0.625000\n",
      "Epoch 46, CIFAR-10 Batch 4:   Loss:     1.2200 Validation Accuracy: 0.600000\n",
      "Epoch 46, CIFAR-10 Batch 5:   Loss:     1.1928 Validation Accuracy: 0.575000\n",
      "Epoch 47, CIFAR-10 Batch 1:   Loss:     1.4240 Validation Accuracy: 0.525000\n",
      "Epoch 47, CIFAR-10 Batch 2:   Loss:     1.0691 Validation Accuracy: 0.625000\n",
      "Epoch 47, CIFAR-10 Batch 3:   Loss:     0.9892 Validation Accuracy: 0.625000\n",
      "Epoch 47, CIFAR-10 Batch 4:   Loss:     1.2125 Validation Accuracy: 0.600000\n",
      "Epoch 47, CIFAR-10 Batch 5:   Loss:     1.1833 Validation Accuracy: 0.625000\n",
      "Epoch 48, CIFAR-10 Batch 1:   Loss:     1.4159 Validation Accuracy: 0.500000\n",
      "Epoch 48, CIFAR-10 Batch 2:   Loss:     1.0697 Validation Accuracy: 0.625000\n",
      "Epoch 48, CIFAR-10 Batch 3:   Loss:     0.9810 Validation Accuracy: 0.625000\n",
      "Epoch 48, CIFAR-10 Batch 4:   Loss:     1.2065 Validation Accuracy: 0.600000\n",
      "Epoch 48, CIFAR-10 Batch 5:   Loss:     1.1804 Validation Accuracy: 0.650000\n",
      "Epoch 49, CIFAR-10 Batch 1:   Loss:     1.4084 Validation Accuracy: 0.500000\n",
      "Epoch 49, CIFAR-10 Batch 2:   Loss:     1.0645 Validation Accuracy: 0.625000\n",
      "Epoch 49, CIFAR-10 Batch 3:   Loss:     0.9748 Validation Accuracy: 0.625000\n",
      "Epoch 49, CIFAR-10 Batch 4:   Loss:     1.1994 Validation Accuracy: 0.600000\n",
      "Epoch 49, CIFAR-10 Batch 5:   Loss:     1.1788 Validation Accuracy: 0.625000\n",
      "Epoch 50, CIFAR-10 Batch 1:   Loss:     1.4041 Validation Accuracy: 0.500000\n",
      "Epoch 50, CIFAR-10 Batch 2:   Loss:     1.0626 Validation Accuracy: 0.625000\n",
      "Epoch 50, CIFAR-10 Batch 3:   Loss:     0.9714 Validation Accuracy: 0.650000\n",
      "Epoch 50, CIFAR-10 Batch 4:   Loss:     1.1912 Validation Accuracy: 0.600000\n",
      "Epoch 50, CIFAR-10 Batch 5:   Loss:     1.1767 Validation Accuracy: 0.625000\n",
      "Epoch 51, CIFAR-10 Batch 1:   Loss:     1.3996 Validation Accuracy: 0.500000\n",
      "Epoch 51, CIFAR-10 Batch 2:   Loss:     1.0593 Validation Accuracy: 0.625000\n",
      "Epoch 51, CIFAR-10 Batch 3:   Loss:     0.9679 Validation Accuracy: 0.650000\n",
      "Epoch 51, CIFAR-10 Batch 4:   Loss:     1.1854 Validation Accuracy: 0.600000\n",
      "Epoch 51, CIFAR-10 Batch 5:   Loss:     1.1735 Validation Accuracy: 0.625000\n",
      "Epoch 52, CIFAR-10 Batch 1:   Loss:     1.3964 Validation Accuracy: 0.500000\n",
      "Epoch 52, CIFAR-10 Batch 2:   Loss:     1.0579 Validation Accuracy: 0.625000\n",
      "Epoch 52, CIFAR-10 Batch 3:   Loss:     0.9628 Validation Accuracy: 0.675000\n",
      "Epoch 52, CIFAR-10 Batch 4:   Loss:     1.1805 Validation Accuracy: 0.625000\n",
      "Epoch 52, CIFAR-10 Batch 5:   Loss:     1.1692 Validation Accuracy: 0.625000\n",
      "Epoch 53, CIFAR-10 Batch 1:   Loss:     1.3929 Validation Accuracy: 0.500000\n",
      "Epoch 53, CIFAR-10 Batch 2:   Loss:     1.0547 Validation Accuracy: 0.625000\n",
      "Epoch 53, CIFAR-10 Batch 3:   Loss:     0.9580 Validation Accuracy: 0.675000\n",
      "Epoch 53, CIFAR-10 Batch 4:   Loss:     1.1755 Validation Accuracy: 0.625000\n",
      "Epoch 53, CIFAR-10 Batch 5:   Loss:     1.1668 Validation Accuracy: 0.625000\n",
      "Epoch 54, CIFAR-10 Batch 1:   Loss:     1.3886 Validation Accuracy: 0.500000\n",
      "Epoch 54, CIFAR-10 Batch 2:   Loss:     1.0511 Validation Accuracy: 0.625000\n",
      "Epoch 54, CIFAR-10 Batch 3:   Loss:     0.9541 Validation Accuracy: 0.650000\n",
      "Epoch 54, CIFAR-10 Batch 4:   Loss:     1.1705 Validation Accuracy: 0.625000\n",
      "Epoch 54, CIFAR-10 Batch 5:   Loss:     1.1654 Validation Accuracy: 0.625000\n",
      "Epoch 55, CIFAR-10 Batch 1:   Loss:     1.3829 Validation Accuracy: 0.500000\n",
      "Epoch 55, CIFAR-10 Batch 2:   Loss:     1.0486 Validation Accuracy: 0.625000\n",
      "Epoch 55, CIFAR-10 Batch 3:   Loss:     0.9491 Validation Accuracy: 0.650000\n",
      "Epoch 55, CIFAR-10 Batch 4:   Loss:     1.1666 Validation Accuracy: 0.650000\n",
      "Epoch 55, CIFAR-10 Batch 5:   Loss:     1.1631 Validation Accuracy: 0.625000\n",
      "Epoch 56, CIFAR-10 Batch 1:   Loss:     1.3769 Validation Accuracy: 0.500000\n",
      "Epoch 56, CIFAR-10 Batch 2:   Loss:     1.0460 Validation Accuracy: 0.625000\n",
      "Epoch 56, CIFAR-10 Batch 3:   Loss:     0.9444 Validation Accuracy: 0.650000\n",
      "Epoch 56, CIFAR-10 Batch 4:   Loss:     1.1618 Validation Accuracy: 0.650000\n",
      "Epoch 56, CIFAR-10 Batch 5:   Loss:     1.1603 Validation Accuracy: 0.625000\n",
      "Epoch 57, CIFAR-10 Batch 1:   Loss:     1.3709 Validation Accuracy: 0.500000\n",
      "Epoch 57, CIFAR-10 Batch 2:   Loss:     1.0422 Validation Accuracy: 0.625000\n",
      "Epoch 57, CIFAR-10 Batch 3:   Loss:     0.9397 Validation Accuracy: 0.650000\n",
      "Epoch 57, CIFAR-10 Batch 4:   Loss:     1.1577 Validation Accuracy: 0.650000\n",
      "Epoch 57, CIFAR-10 Batch 5:   Loss:     1.1587 Validation Accuracy: 0.625000\n",
      "Epoch 58, CIFAR-10 Batch 1:   Loss:     1.3693 Validation Accuracy: 0.500000\n",
      "Epoch 58, CIFAR-10 Batch 2:   Loss:     1.0401 Validation Accuracy: 0.625000\n",
      "Epoch 58, CIFAR-10 Batch 3:   Loss:     0.9355 Validation Accuracy: 0.675000\n",
      "Epoch 58, CIFAR-10 Batch 4:   Loss:     1.1552 Validation Accuracy: 0.650000\n",
      "Epoch 58, CIFAR-10 Batch 5:   Loss:     1.1553 Validation Accuracy: 0.625000\n",
      "Epoch 59, CIFAR-10 Batch 1:   Loss:     1.3630 Validation Accuracy: 0.500000\n",
      "Epoch 59, CIFAR-10 Batch 2:   Loss:     1.0375 Validation Accuracy: 0.625000\n",
      "Epoch 59, CIFAR-10 Batch 3:   Loss:     0.9319 Validation Accuracy: 0.675000\n",
      "Epoch 59, CIFAR-10 Batch 4:   Loss:     1.1501 Validation Accuracy: 0.650000\n",
      "Epoch 59, CIFAR-10 Batch 5:   Loss:     1.1539 Validation Accuracy: 0.625000\n",
      "Epoch 60, CIFAR-10 Batch 1:   Loss:     1.3595 Validation Accuracy: 0.500000\n",
      "Epoch 60, CIFAR-10 Batch 2:   Loss:     1.0355 Validation Accuracy: 0.625000\n",
      "Epoch 60, CIFAR-10 Batch 3:   Loss:     0.9294 Validation Accuracy: 0.675000\n",
      "Epoch 60, CIFAR-10 Batch 4:   Loss:     1.1449 Validation Accuracy: 0.650000\n",
      "Epoch 60, CIFAR-10 Batch 5:   Loss:     1.1516 Validation Accuracy: 0.625000\n",
      "Epoch 61, CIFAR-10 Batch 1:   Loss:     1.3542 Validation Accuracy: 0.500000\n",
      "Epoch 61, CIFAR-10 Batch 2:   Loss:     1.0340 Validation Accuracy: 0.625000\n",
      "Epoch 61, CIFAR-10 Batch 3:   Loss:     0.9256 Validation Accuracy: 0.675000\n",
      "Epoch 61, CIFAR-10 Batch 4:   Loss:     1.1412 Validation Accuracy: 0.650000\n",
      "Epoch 61, CIFAR-10 Batch 5:   Loss:     1.1492 Validation Accuracy: 0.625000\n",
      "Epoch 62, CIFAR-10 Batch 1:   Loss:     1.3483 Validation Accuracy: 0.525000\n",
      "Epoch 62, CIFAR-10 Batch 2:   Loss:     1.0313 Validation Accuracy: 0.625000\n",
      "Epoch 62, CIFAR-10 Batch 3:   Loss:     0.9224 Validation Accuracy: 0.675000\n",
      "Epoch 62, CIFAR-10 Batch 4:   Loss:     1.1368 Validation Accuracy: 0.650000\n",
      "Epoch 62, CIFAR-10 Batch 5:   Loss:     1.1477 Validation Accuracy: 0.625000\n",
      "Epoch 63, CIFAR-10 Batch 1:   Loss:     1.3450 Validation Accuracy: 0.525000\n",
      "Epoch 63, CIFAR-10 Batch 2:   Loss:     1.0302 Validation Accuracy: 0.625000\n",
      "Epoch 63, CIFAR-10 Batch 3:   Loss:     0.9184 Validation Accuracy: 0.675000\n",
      "Epoch 63, CIFAR-10 Batch 4:   Loss:     1.1328 Validation Accuracy: 0.650000\n",
      "Epoch 63, CIFAR-10 Batch 5:   Loss:     1.1443 Validation Accuracy: 0.625000\n",
      "Epoch 64, CIFAR-10 Batch 1:   Loss:     1.3424 Validation Accuracy: 0.525000\n",
      "Epoch 64, CIFAR-10 Batch 2:   Loss:     1.0279 Validation Accuracy: 0.625000\n",
      "Epoch 64, CIFAR-10 Batch 3:   Loss:     0.9148 Validation Accuracy: 0.675000\n",
      "Epoch 64, CIFAR-10 Batch 4:   Loss:     1.1284 Validation Accuracy: 0.650000\n",
      "Epoch 64, CIFAR-10 Batch 5:   Loss:     1.1426 Validation Accuracy: 0.625000\n",
      "Epoch 65, CIFAR-10 Batch 1:   Loss:     1.3396 Validation Accuracy: 0.525000\n",
      "Epoch 65, CIFAR-10 Batch 2:   Loss:     1.0252 Validation Accuracy: 0.600000\n",
      "Epoch 65, CIFAR-10 Batch 3:   Loss:     0.9111 Validation Accuracy: 0.675000\n",
      "Epoch 65, CIFAR-10 Batch 4:   Loss:     1.1232 Validation Accuracy: 0.650000\n",
      "Epoch 65, CIFAR-10 Batch 5:   Loss:     1.1416 Validation Accuracy: 0.600000\n",
      "Epoch 66, CIFAR-10 Batch 1:   Loss:     1.3361 Validation Accuracy: 0.525000\n",
      "Epoch 66, CIFAR-10 Batch 2:   Loss:     1.0232 Validation Accuracy: 0.600000\n",
      "Epoch 66, CIFAR-10 Batch 3:   Loss:     0.9065 Validation Accuracy: 0.675000\n",
      "Epoch 66, CIFAR-10 Batch 4:   Loss:     1.1201 Validation Accuracy: 0.650000\n",
      "Epoch 66, CIFAR-10 Batch 5:   Loss:     1.1407 Validation Accuracy: 0.600000\n",
      "Epoch 67, CIFAR-10 Batch 1:   Loss:     1.3341 Validation Accuracy: 0.525000\n",
      "Epoch 67, CIFAR-10 Batch 2:   Loss:     1.0221 Validation Accuracy: 0.600000\n",
      "Epoch 67, CIFAR-10 Batch 3:   Loss:     0.9026 Validation Accuracy: 0.700000\n",
      "Epoch 67, CIFAR-10 Batch 4:   Loss:     1.1151 Validation Accuracy: 0.650000\n",
      "Epoch 67, CIFAR-10 Batch 5:   Loss:     1.1388 Validation Accuracy: 0.600000\n",
      "Epoch 68, CIFAR-10 Batch 1:   Loss:     1.3305 Validation Accuracy: 0.525000\n",
      "Epoch 68, CIFAR-10 Batch 2:   Loss:     1.0205 Validation Accuracy: 0.600000\n",
      "Epoch 68, CIFAR-10 Batch 3:   Loss:     0.8985 Validation Accuracy: 0.700000\n",
      "Epoch 68, CIFAR-10 Batch 4:   Loss:     1.1113 Validation Accuracy: 0.650000\n",
      "Epoch 68, CIFAR-10 Batch 5:   Loss:     1.1388 Validation Accuracy: 0.600000\n",
      "Epoch 69, CIFAR-10 Batch 1:   Loss:     1.3282 Validation Accuracy: 0.525000\n",
      "Epoch 69, CIFAR-10 Batch 2:   Loss:     1.0191 Validation Accuracy: 0.600000\n",
      "Epoch 69, CIFAR-10 Batch 3:   Loss:     0.8962 Validation Accuracy: 0.725000\n",
      "Epoch 69, CIFAR-10 Batch 4:   Loss:     1.1076 Validation Accuracy: 0.650000\n",
      "Epoch 69, CIFAR-10 Batch 5:   Loss:     1.1361 Validation Accuracy: 0.600000\n",
      "Epoch 70, CIFAR-10 Batch 1:   Loss:     1.3267 Validation Accuracy: 0.525000\n",
      "Epoch 70, CIFAR-10 Batch 2:   Loss:     1.0178 Validation Accuracy: 0.625000\n",
      "Epoch 70, CIFAR-10 Batch 3:   Loss:     0.8933 Validation Accuracy: 0.725000\n",
      "Epoch 70, CIFAR-10 Batch 4:   Loss:     1.1044 Validation Accuracy: 0.650000\n",
      "Epoch 70, CIFAR-10 Batch 5:   Loss:     1.1363 Validation Accuracy: 0.600000\n",
      "Epoch 71, CIFAR-10 Batch 1:   Loss:     1.3231 Validation Accuracy: 0.525000\n",
      "Epoch 71, CIFAR-10 Batch 2:   Loss:     1.0169 Validation Accuracy: 0.625000\n",
      "Epoch 71, CIFAR-10 Batch 3:   Loss:     0.8906 Validation Accuracy: 0.725000\n",
      "Epoch 71, CIFAR-10 Batch 4:   Loss:     1.1011 Validation Accuracy: 0.650000\n",
      "Epoch 71, CIFAR-10 Batch 5:   Loss:     1.1335 Validation Accuracy: 0.625000\n",
      "Epoch 72, CIFAR-10 Batch 1:   Loss:     1.3197 Validation Accuracy: 0.525000\n",
      "Epoch 72, CIFAR-10 Batch 2:   Loss:     1.0172 Validation Accuracy: 0.625000\n",
      "Epoch 72, CIFAR-10 Batch 3:   Loss:     0.8879 Validation Accuracy: 0.725000\n",
      "Epoch 72, CIFAR-10 Batch 4:   Loss:     1.0963 Validation Accuracy: 0.650000\n",
      "Epoch 72, CIFAR-10 Batch 5:   Loss:     1.1318 Validation Accuracy: 0.625000\n",
      "Epoch 73, CIFAR-10 Batch 1:   Loss:     1.3186 Validation Accuracy: 0.525000\n",
      "Epoch 73, CIFAR-10 Batch 2:   Loss:     1.0162 Validation Accuracy: 0.625000\n",
      "Epoch 73, CIFAR-10 Batch 3:   Loss:     0.8855 Validation Accuracy: 0.725000\n",
      "Epoch 73, CIFAR-10 Batch 4:   Loss:     1.0941 Validation Accuracy: 0.650000\n",
      "Epoch 73, CIFAR-10 Batch 5:   Loss:     1.1332 Validation Accuracy: 0.600000\n",
      "Epoch 74, CIFAR-10 Batch 1:   Loss:     1.3154 Validation Accuracy: 0.525000\n",
      "Epoch 74, CIFAR-10 Batch 2:   Loss:     1.0149 Validation Accuracy: 0.625000\n",
      "Epoch 74, CIFAR-10 Batch 3:   Loss:     0.8835 Validation Accuracy: 0.725000\n",
      "Epoch 74, CIFAR-10 Batch 4:   Loss:     1.0925 Validation Accuracy: 0.650000\n",
      "Epoch 74, CIFAR-10 Batch 5:   Loss:     1.1275 Validation Accuracy: 0.600000\n",
      "Epoch 75, CIFAR-10 Batch 1:   Loss:     1.3136 Validation Accuracy: 0.525000\n",
      "Epoch 75, CIFAR-10 Batch 2:   Loss:     1.0136 Validation Accuracy: 0.625000\n",
      "Epoch 75, CIFAR-10 Batch 3:   Loss:     0.8801 Validation Accuracy: 0.700000\n",
      "Epoch 75, CIFAR-10 Batch 4:   Loss:     1.0897 Validation Accuracy: 0.650000\n",
      "Epoch 75, CIFAR-10 Batch 5:   Loss:     1.1268 Validation Accuracy: 0.600000\n",
      "Epoch 76, CIFAR-10 Batch 1:   Loss:     1.3116 Validation Accuracy: 0.525000\n",
      "Epoch 76, CIFAR-10 Batch 2:   Loss:     1.0121 Validation Accuracy: 0.625000\n",
      "Epoch 76, CIFAR-10 Batch 3:   Loss:     0.8778 Validation Accuracy: 0.725000\n",
      "Epoch 76, CIFAR-10 Batch 4:   Loss:     1.0872 Validation Accuracy: 0.650000\n",
      "Epoch 76, CIFAR-10 Batch 5:   Loss:     1.1220 Validation Accuracy: 0.600000\n",
      "Epoch 77, CIFAR-10 Batch 1:   Loss:     1.3100 Validation Accuracy: 0.525000\n",
      "Epoch 77, CIFAR-10 Batch 2:   Loss:     1.0111 Validation Accuracy: 0.625000\n",
      "Epoch 77, CIFAR-10 Batch 3:   Loss:     0.8752 Validation Accuracy: 0.675000\n",
      "Epoch 77, CIFAR-10 Batch 4:   Loss:     1.0847 Validation Accuracy: 0.650000\n",
      "Epoch 77, CIFAR-10 Batch 5:   Loss:     1.1222 Validation Accuracy: 0.600000\n",
      "Epoch 78, CIFAR-10 Batch 1:   Loss:     1.3072 Validation Accuracy: 0.525000\n",
      "Epoch 78, CIFAR-10 Batch 2:   Loss:     1.0093 Validation Accuracy: 0.625000\n",
      "Epoch 78, CIFAR-10 Batch 3:   Loss:     0.8734 Validation Accuracy: 0.700000\n",
      "Epoch 78, CIFAR-10 Batch 4:   Loss:     1.0812 Validation Accuracy: 0.650000\n",
      "Epoch 78, CIFAR-10 Batch 5:   Loss:     1.1197 Validation Accuracy: 0.600000\n",
      "Epoch 79, CIFAR-10 Batch 1:   Loss:     1.3060 Validation Accuracy: 0.525000\n",
      "Epoch 79, CIFAR-10 Batch 2:   Loss:     1.0069 Validation Accuracy: 0.625000\n",
      "Epoch 79, CIFAR-10 Batch 3:   Loss:     0.8717 Validation Accuracy: 0.700000\n",
      "Epoch 79, CIFAR-10 Batch 4:   Loss:     1.0791 Validation Accuracy: 0.650000\n",
      "Epoch 79, CIFAR-10 Batch 5:   Loss:     1.1175 Validation Accuracy: 0.600000\n",
      "Epoch 80, CIFAR-10 Batch 1:   Loss:     1.3007 Validation Accuracy: 0.525000\n",
      "Epoch 80, CIFAR-10 Batch 2:   Loss:     1.0030 Validation Accuracy: 0.625000\n",
      "Epoch 80, CIFAR-10 Batch 3:   Loss:     0.8694 Validation Accuracy: 0.700000\n",
      "Epoch 80, CIFAR-10 Batch 4:   Loss:     1.0755 Validation Accuracy: 0.650000\n",
      "Epoch 80, CIFAR-10 Batch 5:   Loss:     1.1159 Validation Accuracy: 0.600000\n"
     ]
    }
   ],
   "source": [
    "\"\"\"\n",
    "DON'T MODIFY ANYTHING IN THIS CELL\n",
    "\"\"\"\n",
    "save_model_path = './image_classification'\n",
    "\n",
    "print('Training...')\n",
    "with tf.Session() as sess:\n",
    "    # Initializing the variables\n",
    "    sess.run(tf.global_variables_initializer())\n",
    "    \n",
    "    # Training cycle\n",
    "    for epoch in range(epochs):\n",
    "        # Loop over all batches\n",
    "        n_batches = 5\n",
    "        for batch_i in range(1, n_batches + 1):\n",
    "            for batch_features, batch_labels in helper.load_preprocess_training_batch(batch_i, batch_size):\n",
    "                train_neural_network(sess, optimizer, keep_probability, batch_features, batch_labels)\n",
    "            print('Epoch {:>2}, CIFAR-10 Batch {}:  '.format(epoch + 1, batch_i), end='')\n",
    "            print_stats(sess, batch_features, batch_labels, cost, accuracy)\n",
    "            \n",
    "    # Save Model\n",
    "    saver = tf.train.Saver()\n",
    "    save_path = saver.save(sess, save_model_path)"
   ]
  },
  {
   "cell_type": "markdown",
   "metadata": {},
   "source": [
    "# Checkpoint\n",
    "The model has been saved to disk.\n",
    "## Test Model\n",
    "Test your model against the test dataset.  This will be your final accuracy. You should have an accuracy greater than 50%. If you don't, keep tweaking the model architecture and parameters."
   ]
  },
  {
   "cell_type": "code",
   "execution_count": 31,
   "metadata": {
    "collapsed": false
   },
   "outputs": [
    {
     "name": "stdout",
     "output_type": "stream",
     "text": [
      "Testing Accuracy: 0.52646484375\n",
      "\n"
     ]
    },
    {
     "data": {
      "image/png": "[encoded data removed]",
      "text/plain": [
       "<matplotlib.figure.Figure at 0x138113a58>"
      ]
     },
     "metadata": {
      "image/png": {
       "height": 319,
       "width": 355
      }
     },
     "output_type": "display_data"
    }
   ],
   "source": [
    "\"\"\"\n",
    "DON'T MODIFY ANYTHING IN THIS CELL\n",
    "\"\"\"\n",
    "%matplotlib inline\n",
    "%config InlineBackend.figure_format = 'retina'\n",
    "\n",
    "import tensorflow as tf\n",
    "import pickle\n",
    "import helper\n",
    "import random\n",
    "\n",
    "# Set batch size if not already set\n",
    "try:\n",
    "    if batch_size:\n",
    "        pass\n",
    "except NameError:\n",
    "    batch_size = 64\n",
    "\n",
    "save_model_path = './image_classification'\n",
    "n_samples = 4\n",
    "top_n_predictions = 3\n",
    "\n",
    "def test_model():\n",
    "    \"\"\"\n",
    "    Test the saved model against the test dataset\n",
    "    \"\"\"\n",
    "\n",
    "    test_features, test_labels = pickle.load(open('preprocess_test.p', mode='rb'))\n",
    "    loaded_graph = tf.Graph()\n",
    "\n",
    "    with tf.Session(graph=loaded_graph) as sess:\n",
    "        # Load model\n",
    "        loader = tf.train.import_meta_graph(save_model_path + '.meta')\n",
    "        loader.restore(sess, save_model_path)\n",
    "\n",
    "        # Get Tensors from loaded model\n",
    "        loaded_x = loaded_graph.get_tensor_by_name('x:0')\n",
    "        loaded_y = loaded_graph.get_tensor_by_name('y:0')\n",
    "        loaded_keep_prob = loaded_graph.get_tensor_by_name('keep_prob:0')\n",
    "        loaded_logits = loaded_graph.get_tensor_by_name('logits:0')\n",
    "        loaded_acc = loaded_graph.get_tensor_by_name('accuracy:0')\n",
    "        \n",
    "        # Get accuracy in batches for memory limitations\n",
    "        test_batch_acc_total = 0\n",
    "        test_batch_count = 0\n",
    "        \n",
    "        for test_feature_batch, test_label_batch in helper.batch_features_labels(test_features, test_labels, batch_size):\n",
    "            test_batch_acc_total += sess.run(\n",
    "                loaded_acc,\n",
    "                feed_dict={loaded_x: test_feature_batch, loaded_y: test_label_batch, loaded_keep_prob: 1.0})\n",
    "            test_batch_count += 1\n",
    "\n",
    "        print('Testing Accuracy: {}\\n'.format(test_batch_acc_total/test_batch_count))\n",
    "\n",
    "        # Print Random Samples\n",
    "        random_test_features, random_test_labels = tuple(zip(*random.sample(list(zip(test_features, test_labels)), n_samples)))\n",
    "        random_test_predictions = sess.run(\n",
    "            tf.nn.top_k(tf.nn.softmax(loaded_logits), top_n_predictions),\n",
    "            feed_dict={loaded_x: random_test_features, loaded_y: random_test_labels, loaded_keep_prob: 1.0})\n",
    "        helper.display_image_predictions(random_test_features, random_test_labels, random_test_predictions)\n",
    "\n",
    "\n",
    "test_model()"
   ]
  },
  {
   "cell_type": "markdown",
   "metadata": {},
   "source": [
    "## Why 50-80% Accuracy?\n",
    "You might be wondering why you can't get an accuracy any higher. First things first, 50% isn't bad for a simple CNN.  Pure guessing would get you 10% accuracy. However, you might notice people are getting scores [well above 80%](http://rodrigob.github.io/are_we_there_yet/build/classification_datasets_results.html#43494641522d3130).  That's because we haven't taught you all there is to know about neural networks. We still need to cover a few more techniques.\n",
    "## Submitting This Project\n",
    "When submitting this project, make sure to run all the cells before saving the notebook.  Save the notebook file as \"dlnd_image_classification.ipynb\" and save it as a HTML file under \"File\" -> \"Download as\".  Include the \"helper.py\" and \"problem_unittests.py\" files in your submission."
   ]
  }
 ],
 "metadata": {
  "kernelspec": {
   "display_name": "Python 3",
   "language": "python",
   "name": "python3"
  },
  "language_info": {
   "codemirror_mode": {
    "name": "ipython",
    "version": 3
   },
   "file_extension": ".py",
   "mimetype": "text/x-python",
   "name": "python",
   "nbconvert_exporter": "python",
   "pygments_lexer": "ipython3",
   "version": "3.5.2"
  }
 },
 "nbformat": 4,
 "nbformat_minor": 0
}
